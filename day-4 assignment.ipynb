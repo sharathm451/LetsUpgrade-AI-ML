{
 "cells": [
  {
   "cell_type": "markdown",
   "metadata": {},
   "source": [
    "### question 1(operations on complex numbers)"
   ]
  },
  {
   "cell_type": "code",
   "execution_count": 2,
   "metadata": {},
   "outputs": [
    {
     "name": "stdout",
     "output_type": "stream",
     "text": [
      "addition of complex (6+12j)\n",
      "subtraction of complex (-2-4j)\n",
      "multiplication of complex (-24+32j)\n",
      "division of complex (0.5+0j)\n"
     ]
    }
   ],
   "source": [
    "z1=complex(2,4)\n",
    "z2=complex(4,8)\n",
    "# addition of complex numbers\n",
    "def addcomplex(z1,z2):\n",
    "    return (z1+z2)\n",
    "print(\"addition of complex\",addcomplex(z1,z2))\n",
    "# subtraction of complex numbers\n",
    "def subcomplex(z1,z2):\n",
    "    return (z1-z2)\n",
    "print(\"subtraction of complex\",subcomplex(z1,z2))\n",
    "# multiplication of complex numbers\n",
    "def multicomplex(z1,z2):\n",
    "    return (z1*z2)\n",
    "print(\"multiplication of complex\",multicomplex(z1,z2))\n",
    "# division of complex numbers\n",
    "def divcomplex(z1,z2):\n",
    "    return (z1/z2)\n",
    "print(\"division of complex\",divcomplex(z1,z2))\n",
    "# floor division and moulo of complex numbers\n",
    "# They are getting typeerror so that floor division and modulo cannot be performed on complex numbers as of my research\n",
    "\n",
    "\n"
   ]
  },
  {
   "cell_type": "markdown",
   "metadata": {},
   "source": [
    "### question 2(range and its parameter)"
   ]
  },
  {
   "cell_type": "code",
   "execution_count": 4,
   "metadata": {},
   "outputs": [
    {
     "name": "stdout",
     "output_type": "stream",
     "text": [
      "0 1 2 3 4 5 6 7 8 9 10 11 12 13 14 15 16 17 18 19 \n",
      "5 6 7 8 9 10 11 12 13 14 15 16 17 18 19 \n",
      "3 6 9 12 15 18 21 24 27 "
     ]
    }
   ],
   "source": [
    "# As of my research on range \n",
    "# range is a function to stop the number from initial of it in sequence\n",
    "# range has start,stop and step(three parameters)\n",
    "# range(stop)-(it takes one argument)\n",
    "# range(start,stop)-(it takes two arguments)\n",
    "# range(start,stop,step)-(it takes three arguments)\n",
    "\n",
    "# RANGE(stop)\n",
    "for i in range(20):\n",
    "    print(i, end = ' ')\n",
    "print()\n",
    "    \n",
    "# RANGE(start,stop)\n",
    "for i in range(5,20):\n",
    "    print(i, end = ' ')\n",
    "print()\n",
    "    \n",
    "# RANGE(start,stop,step)\n",
    "for i in range(3,30,3):\n",
    "    print(i, end = ' ')\n",
    "\n",
    "# here i get to know that stop number doesnt print and it prints its before number of the last number"
   ]
  },
  {
   "cell_type": "markdown",
   "metadata": {},
   "source": [
    "### question 3(perform subtraction and conditional statement)"
   ]
  },
  {
   "cell_type": "code",
   "execution_count": 6,
   "metadata": {},
   "outputs": [
    {
     "name": "stdout",
     "output_type": "stream",
     "text": [
      "enter the value 50\n",
      "enter the value 10\n",
      "multiplication of x and y 500\n"
     ]
    }
   ],
   "source": [
    "x= int(input(\"enter the value \"))\n",
    "y= int(input(\"enter the value \"))\n",
    "if x-y>25:\n",
    "    res = x*y\n",
    "    print(\"multiplication of x and y\",res)\n",
    "else:\n",
    "    res =x/y\n",
    "    print(\"division of x and y\",res)\n",
    "    "
   ]
  },
  {
   "cell_type": "markdown",
   "metadata": {},
   "source": [
    "### question 4(10 int elements and res is square of that number minus 2)"
   ]
  },
  {
   "cell_type": "code",
   "execution_count": 10,
   "metadata": {},
   "outputs": [
    {
     "name": "stdout",
     "output_type": "stream",
     "text": [
      "2\n",
      "14\n",
      "34\n",
      "62\n"
     ]
    }
   ],
   "source": [
    "x=[0.1,2,3,4,5,6,7,8,9]\n",
    "for i in x:\n",
    "    if i % 2 ==0:\n",
    "        res=(i**2)-2\n",
    "        print(res)"
   ]
  },
  {
   "cell_type": "markdown",
   "metadata": {},
   "source": [
    "### question 5(10 list of  elements which are greater than 7 when itself divided by 2 )"
   ]
  },
  {
   "cell_type": "code",
   "execution_count": 13,
   "metadata": {},
   "outputs": [
    {
     "name": "stdout",
     "output_type": "stream",
     "text": [
      "42\n",
      "85\n",
      "45\n",
      "32\n",
      "69\n"
     ]
    }
   ],
   "source": [
    "x=[5,12,42,10,85,45,5,32,11,69]\n",
    "for i in x:\n",
    "    if i / 2 > 7:\n",
    "        print(i)"
   ]
  },
  {
   "cell_type": "code",
   "execution_count": null,
   "metadata": {},
   "outputs": [],
   "source": []
  }
 ],
 "metadata": {
  "kernelspec": {
   "display_name": "Python 3",
   "language": "python",
   "name": "python3"
  },
  "language_info": {
   "codemirror_mode": {
    "name": "ipython",
    "version": 3
   },
   "file_extension": ".py",
   "mimetype": "text/x-python",
   "name": "python",
   "nbconvert_exporter": "python",
   "pygments_lexer": "ipython3",
   "version": "3.8.3"
  }
 },
 "nbformat": 4,
 "nbformat_minor": 4
}
