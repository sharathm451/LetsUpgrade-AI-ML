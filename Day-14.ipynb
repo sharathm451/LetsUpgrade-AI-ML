{
 "cells": [
  {
   "cell_type": "markdown",
   "metadata": {},
   "source": [
    "# 1) Classify each of the following as N, nominal; O, ordinal; or I/R, interval/ratio data:"
   ]
  },
  {
   "cell_type": "markdown",
   "metadata": {},
   "source": [
    "    a.  zip code of your local address\n"
   ]
  },
  {
   "cell_type": "markdown",
   "metadata": {},
   "source": [
    "### N(___Nominal___) "
   ]
  },
  {
   "cell_type": "markdown",
   "metadata": {},
   "source": [
    "    b.  letter grade you will receive in this class\n"
   ]
  },
  {
   "cell_type": "markdown",
   "metadata": {},
   "source": [
    "### O(___Ordinal___)"
   ]
  },
  {
   "cell_type": "markdown",
   "metadata": {},
   "source": [
    "    c.  country you were born in"
   ]
  },
  {
   "cell_type": "markdown",
   "metadata": {},
   "source": [
    "### N(___Nominal___)"
   ]
  },
  {
   "cell_type": "markdown",
   "metadata": {},
   "source": [
    "    d.  amount of money you have with you\n"
   ]
  },
  {
   "cell_type": "markdown",
   "metadata": {},
   "source": [
    "### I/R(___Interval/Ratio___) precisely ratio"
   ]
  },
  {
   "cell_type": "markdown",
   "metadata": {},
   "source": [
    "    e.  mileage (miles per gallon) your car gets\n"
   ]
  },
  {
   "cell_type": "markdown",
   "metadata": {},
   "source": [
    "### I/R(___Interval/Ratio)___)"
   ]
  },
  {
   "cell_type": "markdown",
   "metadata": {},
   "source": [
    "      f.  brand of chocolate you prefer\n"
   ]
  },
  {
   "cell_type": "markdown",
   "metadata": {},
   "source": [
    "### N(___Nominal___)"
   ]
  },
  {
   "cell_type": "markdown",
   "metadata": {},
   "source": [
    "     g.  year of your birth (A.D.)\n"
   ]
  },
  {
   "cell_type": "markdown",
   "metadata": {},
   "source": [
    "### I/R(___Interval/Ratio___)"
   ]
  },
  {
   "cell_type": "markdown",
   "metadata": {},
   "source": [
    "    h.  weight of your pet\n"
   ]
  },
  {
   "cell_type": "markdown",
   "metadata": {},
   "source": [
    "### I/R(___Interval/Ratio___)"
   ]
  },
  {
   "cell_type": "markdown",
   "metadata": {},
   "source": [
    "    i.  degrees earned by your teachers\n"
   ]
  },
  {
   "cell_type": "markdown",
   "metadata": {},
   "source": [
    "### O(___Ordinal___)"
   ]
  },
  {
   "cell_type": "markdown",
   "metadata": {},
   "source": [
    "    j.  egg sizes  (Small, Medium, Large, Extra Large, Jumbo)"
   ]
  },
  {
   "cell_type": "markdown",
   "metadata": {},
   "source": [
    "### O(___Ordinal___)"
   ]
  },
  {
   "cell_type": "markdown",
   "metadata": {},
   "source": [
    "# 2) Which of the following is an example of a continuous variable? \n"
   ]
  },
  {
   "cell_type": "markdown",
   "metadata": {},
   "source": [
    "### A: Family income \n",
    "### B: Number of students in a statistics class \n",
    "### C: Zip codes of shoppers \n",
    "### D: Rankings of baseball teams in a league"
   ]
  },
  {
   "cell_type": "markdown",
   "metadata": {},
   "source": [
    "### Answer is \n",
    "### A) Family income "
   ]
  },
  {
   "cell_type": "code",
   "execution_count": null,
   "metadata": {},
   "outputs": [],
   "source": []
  }
 ],
 "metadata": {
  "kernelspec": {
   "display_name": "Python 3",
   "language": "python",
   "name": "python3"
  },
  "language_info": {
   "codemirror_mode": {
    "name": "ipython",
    "version": 3
   },
   "file_extension": ".py",
   "mimetype": "text/x-python",
   "name": "python",
   "nbconvert_exporter": "python",
   "pygments_lexer": "ipython3",
   "version": "3.8.5"
  }
 },
 "nbformat": 4,
 "nbformat_minor": 4
}
