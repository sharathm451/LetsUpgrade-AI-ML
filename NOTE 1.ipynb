{
 "cells": [
  {
   "cell_type": "markdown",
   "metadata": {},
   "source": [
    "# Encapsulation"
   ]
  },
  {
   "cell_type": "code",
   "execution_count": 21,
   "metadata": {},
   "outputs": [
    {
     "name": "stdout",
     "output_type": "stream",
     "text": [
      "passwords updating\n",
      "100\n",
      "150\n",
      "learning program\n",
      "20\n",
      "35\n"
     ]
    },
    {
     "ename": "AttributeError",
     "evalue": "'computer' object has no attribute '__users'",
     "output_type": "error",
     "traceback": [
      "\u001b[1;31m---------------------------------------------------------------------------\u001b[0m",
      "\u001b[1;31mAttributeError\u001b[0m                            Traceback (most recent call last)",
      "\u001b[1;32m<ipython-input-21-cf520ee9b181>\u001b[0m in \u001b[0;36m<module>\u001b[1;34m\u001b[0m\n\u001b[0;32m     34\u001b[0m \u001b[1;33m\u001b[0m\u001b[0m\n\u001b[0;32m     35\u001b[0m \u001b[1;33m\u001b[0m\u001b[0m\n\u001b[1;32m---> 36\u001b[1;33m \u001b[0mobj\u001b[0m\u001b[1;33m.\u001b[0m\u001b[0m__users\u001b[0m\u001b[1;33m(\u001b[0m\u001b[1;33m)\u001b[0m\u001b[1;33m\u001b[0m\u001b[1;33m\u001b[0m\u001b[0m\n\u001b[0m\u001b[0;32m     37\u001b[0m \u001b[1;33m\u001b[0m\u001b[0m\n\u001b[0;32m     38\u001b[0m   \u001b[1;31m#      print(\"member of class can only call or access private variables and methods\")\u001b[0m\u001b[1;33m\u001b[0m\u001b[1;33m\u001b[0m\u001b[1;33m\u001b[0m\u001b[0m\n",
      "\u001b[1;31mAttributeError\u001b[0m: 'computer' object has no attribute '__users'"
     ]
    }
   ],
   "source": [
    "class computer:\n",
    "    __project=\"\"\n",
    "    __users=0\n",
    "    def __init__(self):\n",
    "        self.__passwords()   # private method\n",
    "        \n",
    "        self.public=\"100\"    # public variable\n",
    "        print(self.public)\n",
    "        \n",
    "        self.__project=\"hacking\"    # private variables \n",
    "        self.__users=20\n",
    "         \n",
    "        \n",
    "    def work(self,n):\n",
    "        self.public=n\n",
    "        print(self.public)\n",
    "        print(\"learning program\")\n",
    "        print(self.__users)              # call/access of private variable by its own class membrane \n",
    "        \n",
    "    def setusers(self,total):         # private variables edit and access is within the class methods as members\n",
    "        self.__users=total\n",
    "        print(self.__users)\n",
    "        \n",
    "        \n",
    "    def __passwords(self):                    # this method called by init constructor\n",
    "        print(\"passwords updating\")\n",
    "        \n",
    "\n",
    "obj=computer()\n",
    "\n",
    "obj.work(150)\n",
    "\n",
    "obj.setusers(35)\n",
    "\n",
    "\n",
    "obj.__users()\n",
    "\n",
    "  #      print(\"member of class can only call or access private variables and methods\")\n"
   ]
  },
  {
   "cell_type": "code",
   "execution_count": null,
   "metadata": {},
   "outputs": [],
   "source": []
  }
 ],
 "metadata": {
  "kernelspec": {
   "display_name": "Python 3",
   "language": "python",
   "name": "python3"
  },
  "language_info": {
   "codemirror_mode": {
    "name": "ipython",
    "version": 3
   },
   "file_extension": ".py",
   "mimetype": "text/x-python",
   "name": "python",
   "nbconvert_exporter": "python",
   "pygments_lexer": "ipython3",
   "version": "3.8.5"
  }
 },
 "nbformat": 4,
 "nbformat_minor": 4
}
