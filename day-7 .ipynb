{
 "cells": [
  {
   "cell_type": "markdown",
   "metadata": {},
   "source": [
    "### Q1: Copy the file content from one file to another file using for loop without in-built copy function"
   ]
  },
  {
   "cell_type": "code",
   "execution_count": 5,
   "metadata": {},
   "outputs": [],
   "source": [
    "# Creation of first file and content\n",
    "file1=open(\"t1.txt\",'w')\n",
    "file1.write(\"\\nhi hello python\")\n",
    "file1.write(\"\\nthis is sharath\")\n",
    "file1.write(\"\\npython is a great language\")\n",
    "file1.write(\"\\niam very interested to learn it\")\n",
    "file1.close()"
   ]
  },
  {
   "cell_type": "code",
   "execution_count": 4,
   "metadata": {},
   "outputs": [
    {
     "data": {
      "text/plain": [
       "'C:\\\\Users\\\\SH\\\\ AI-ML PYTHON\\\\ASSIGNMENTS'"
      ]
     },
     "execution_count": 4,
     "metadata": {},
     "output_type": "execute_result"
    }
   ],
   "source": [
    "import os\n",
    "os.getcwd()"
   ]
  },
  {
   "cell_type": "code",
   "execution_count": 6,
   "metadata": {},
   "outputs": [
    {
     "name": "stdout",
     "output_type": "stream",
     "text": [
      "\n",
      "hi hello python\n",
      "this is sharath\n",
      "python is a great language\n",
      "iam very interested to learn it\n"
     ]
    }
   ],
   "source": [
    "# copying  the content from the first file \n",
    "file1=open(\"t1.txt\",'r')\n",
    "file2=open('t2.txt','w')\n",
    "\n",
    "cont=file1.readlines()\n",
    "type(cont)\n",
    "for i in range(0,len(cont)):\n",
    "    file2.write(cont[i])\n",
    "file2.close()\n",
    "file2=open('t2.txt','r')\n",
    "print(file2.read())\n",
    "file1.close()\n",
    "file2.close()"
   ]
  },
  {
   "cell_type": "markdown",
   "metadata": {},
   "source": [
    "### Q2: Write a program to find the max and min values of  a dictionary without in-bult functions(max,min functions)"
   ]
  },
  {
   "cell_type": "code",
   "execution_count": 6,
   "metadata": {},
   "outputs": [
    {
     "name": "stdout",
     "output_type": "stream",
     "text": [
      "Min : Mercury\n",
      "Max : Pluto\n"
     ]
    }
   ],
   "source": [
    "\n",
    "sol = {\"Uranus\":[2750, 3000, 2880], \"Mercury\":[46, 70, 57], \"Earth\":[147, 152, 150], \"Venus\":[107, 109, 108], \"Mars\":[205, 249, 228], \"Saturn\":[1350, 1510, 1430], \"Jupiter\":[741, 817, 779], \"Pluto\":[4440, 7380, 5910], \"Neptune\":[4450, 4550, 4500]}\n",
    "\n",
    "def distance(close=True):\n",
    "    closest = 10000\n",
    "    farthest = 0\n",
    "    for name in sol:\n",
    "        for index in range(len(sol[name])):\n",
    "                closefar = sol[name][index]\n",
    "                if close:\n",
    "                    if closefar < closest:\n",
    "                        closefarname = name\n",
    "                        closest = closefar\n",
    "                else:\n",
    "                    if closefar > farthest:\n",
    "                        closefarname = name\n",
    "                        farthest = closefar\n",
    "    return closefarname\n",
    "\n",
    "print(\"Min :\",distance(True))\n",
    "print(\"Max :\",distance(False))"
   ]
  },
  {
   "cell_type": "code",
   "execution_count": null,
   "metadata": {},
   "outputs": [],
   "source": []
  },
  {
   "cell_type": "code",
   "execution_count": null,
   "metadata": {},
   "outputs": [],
   "source": []
  }
 ],
 "metadata": {
  "kernelspec": {
   "display_name": "Python 3",
   "language": "python",
   "name": "python3"
  },
  "language_info": {
   "codemirror_mode": {
    "name": "ipython",
    "version": 3
   },
   "file_extension": ".py",
   "mimetype": "text/x-python",
   "name": "python",
   "nbconvert_exporter": "python",
   "pygments_lexer": "ipython3",
   "version": "3.8.3"
  }
 },
 "nbformat": 4,
 "nbformat_minor": 4
}
