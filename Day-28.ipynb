{
 "cells": [
  {
   "cell_type": "markdown",
   "metadata": {},
   "source": [
    "# 1) create two arrays of actual and predicted values,and compare it with confusion matrix"
   ]
  },
  {
   "cell_type": "code",
   "execution_count": 1,
   "metadata": {},
   "outputs": [],
   "source": [
    "import numpy as np\n"
   ]
  },
  {
   "cell_type": "code",
   "execution_count": 79,
   "metadata": {},
   "outputs": [
    {
     "name": "stdout",
     "output_type": "stream",
     "text": [
      "[1 0 1 1 0 1 1 0 0 1] [1 0 1 0 0 1 1 0 1 0]\n"
     ]
    }
   ],
   "source": [
    "actual_values = np.array([1,0,1,1,0,1,1,0,0,1])\n",
    "\n",
    "predicted_values = np.array([1,0,1,0,0,1,1,0,1,0])\n",
    "\n",
    "print(actual_values,predicted_values)"
   ]
  },
  {
   "cell_type": "code",
   "execution_count": 80,
   "metadata": {},
   "outputs": [
    {
     "name": "stdout",
     "output_type": "stream",
     "text": [
      "confusion matrix: \n",
      " [[4 2]\n",
      " [1 3]]\n",
      "outcome values: \n",
      " 4 2 1 3\n",
      "classification report of confusion matrix: \n",
      "               precision    recall  f1-score   support\n",
      "\n",
      "           1       0.80      0.67      0.73         6\n",
      "           0       0.60      0.75      0.67         4\n",
      "\n",
      "    accuracy                           0.70        10\n",
      "   macro avg       0.70      0.71      0.70        10\n",
      "weighted avg       0.72      0.70      0.70        10\n",
      "\n"
     ]
    }
   ],
   "source": [
    "from sklearn.metrics import confusion_matrix\n",
    "from sklearn.metrics import classification_report\n",
    "\n",
    "matrix = confusion_matrix(actual_values,predicted_values,labels=[1,0])\n",
    "print(\"confusion matrix: \\n\",matrix)\n",
    "\n",
    "\n",
    "\n",
    "tp,fn,fp,tn = confusion_matrix(actual_values,predicted_values,labels=[1,0]).reshape(-1)\n",
    "print(\"outcome values: \\n\",tp,fn,fp,tn)\n",
    "\n",
    "\n",
    "\n",
    "report = classification_report(actual_values,predicted_values,labels=[1,0])\n",
    "print(\"classification report of confusion matrix: \\n\", report)\n",
    "\n"
   ]
  },
  {
   "cell_type": "markdown",
   "metadata": {},
   "source": [
    "# 2) find out recall,precision,f1 and  confusion matrix with picture"
   ]
  },
  {
   "cell_type": "code",
   "execution_count": 81,
   "metadata": {},
   "outputs": [],
   "source": [
    "# LETS ASSUME CATS AND DOGS LABELS \n",
    "TP = 4\n",
    "FN = 2\n",
    "FP = 1\n",
    "TN = 3"
   ]
  },
  {
   "cell_type": "code",
   "execution_count": 82,
   "metadata": {},
   "outputs": [
    {
     "name": "stdout",
     "output_type": "stream",
     "text": [
      "4 2 1 3\n"
     ]
    }
   ],
   "source": [
    "print(TP,FN,FP,TN)"
   ]
  },
  {
   "cell_type": "code",
   "execution_count": 83,
   "metadata": {},
   "outputs": [
    {
     "data": {
      "text/plain": [
       "4.3"
      ]
     },
     "execution_count": 83,
     "metadata": {},
     "output_type": "execute_result"
    }
   ],
   "source": [
    "accuracy = TP + TN / (TP + FN + FP + TN)\n",
    "accuracy"
   ]
  },
  {
   "cell_type": "markdown",
   "metadata": {},
   "source": [
    "### Precision"
   ]
  },
  {
   "cell_type": "code",
   "execution_count": 84,
   "metadata": {},
   "outputs": [
    {
     "name": "stdout",
     "output_type": "stream",
     "text": [
      "precision :0.80\n"
     ]
    }
   ],
   "source": [
    "precision = TP / (TP + FP)\n",
    "\n",
    "print(f\"precision :{precision:4.2f}\")\n"
   ]
  },
  {
   "cell_type": "markdown",
   "metadata": {},
   "source": [
    "###  Recall"
   ]
  },
  {
   "cell_type": "code",
   "execution_count": 85,
   "metadata": {},
   "outputs": [
    {
     "name": "stdout",
     "output_type": "stream",
     "text": [
      "recall: 0.67\n"
     ]
    }
   ],
   "source": [
    "recall = TP / (TP + FN)\n",
    "print(f\"recall: {recall:4.2f}\")\n"
   ]
  },
  {
   "cell_type": "markdown",
   "metadata": {},
   "source": [
    "### F1 score"
   ]
  },
  {
   "cell_type": "code",
   "execution_count": 86,
   "metadata": {},
   "outputs": [
    {
     "name": "stdout",
     "output_type": "stream",
     "text": [
      "  FN     FP    TP    pre  accu  recall   f1 \n",
      "  0.00  0.00 94.00  1.00 94.03  1.00  1.00\n",
      "  1.00  0.00 93.00  1.00 93.03  0.99  0.99\n",
      "  1.00  1.00 92.00  0.99 92.03  0.99  0.99\n",
      "  2.00  0.00 92.00  1.00 92.03  0.98  0.99\n",
      "  2.00  1.00 91.00  0.99 91.03  0.98  0.98\n",
      "  2.00  2.00 90.00  0.98 90.03  0.98  0.98\n",
      "  3.00  0.00 91.00  1.00 91.03  0.97  0.98\n",
      "  3.00  1.00 90.00  0.99 90.03  0.97  0.98\n",
      "  3.00  2.00 89.00  0.98 89.03  0.97  0.97\n",
      "  3.00  3.00 88.00  0.97 88.03  0.97  0.97\n",
      "  4.00  0.00 90.00  1.00 90.03  0.96  0.98\n",
      "  4.00  1.00 89.00  0.99 89.03  0.96  0.97\n",
      "  4.00  2.00 88.00  0.98 88.03  0.96  0.97\n",
      "  4.00  3.00 87.00  0.97 87.03  0.96  0.96\n",
      "  4.00  4.00 86.00  0.96 86.03  0.96  0.96\n",
      "  5.00  0.00 89.00  1.00 89.03  0.95  0.97\n",
      "  5.00  1.00 88.00  0.99 88.03  0.95  0.97\n",
      "  5.00  2.00 87.00  0.98 87.03  0.95  0.96\n",
      "  5.00  3.00 86.00  0.97 86.03  0.95  0.96\n",
      "  5.00  4.00 85.00  0.96 85.03  0.94  0.95\n",
      "  5.00  5.00 84.00  0.94 84.03  0.94  0.94\n",
      "  6.00  0.00 88.00  1.00 88.03  0.94  0.97\n",
      "  6.00  1.00 87.00  0.99 87.03  0.94  0.96\n",
      "  6.00  2.00 86.00  0.98 86.03  0.93  0.96\n",
      "  6.00  3.00 85.00  0.97 85.03  0.93  0.95\n",
      "  6.00  4.00 84.00  0.95 84.03  0.93  0.94\n",
      "  6.00  5.00 83.00  0.94 83.03  0.93  0.94\n",
      "  6.00  6.00 82.00  0.93 82.03  0.93  0.93\n"
     ]
    }
   ],
   "source": [
    "TF = 6\n",
    "print(\"  FN     FP    TP    pre  accu  recall   f1 \")\n",
    "for FN in range(7):\n",
    "    for FP in range(0,FN+1):\n",
    "        TP = 100 - FN - FP - TF\n",
    "        precision = TP / (TP + FP)\n",
    "        accuracy = TP + TN / (TP + FN + FP + TN)\n",
    "        recall = TP / (TP + FN)\n",
    "        f1_score = 2 * recall * precision / (recall + precision)\n",
    "        print(f\"{FN:6.2f}{FP:6.2f}{TP:6.2f}\", end=\"\")\n",
    "        print(f\"{precision:6.2f}{accuracy:6.2f}{recall:6.2f}{f1_score:6.2f}\")\n",
    "    "
   ]
  },
  {
   "cell_type": "code",
   "execution_count": 91,
   "metadata": {},
   "outputs": [
    {
     "data": {
      "text/plain": [
       "0.536"
      ]
     },
     "execution_count": 91,
     "metadata": {},
     "output_type": "execute_result"
    }
   ],
   "source": [
    "0.80*0.67"
   ]
  },
  {
   "cell_type": "code",
   "execution_count": 92,
   "metadata": {},
   "outputs": [
    {
     "data": {
      "text/plain": [
       "1.4700000000000002"
      ]
     },
     "execution_count": 92,
     "metadata": {},
     "output_type": "execute_result"
    }
   ],
   "source": [
    "0.80+0.67"
   ]
  },
  {
   "cell_type": "code",
   "execution_count": 93,
   "metadata": {},
   "outputs": [
    {
     "data": {
      "text/plain": [
       "0.36462585034013606"
      ]
     },
     "execution_count": 93,
     "metadata": {},
     "output_type": "execute_result"
    }
   ],
   "source": [
    "x=0.536/1.47\n",
    "x"
   ]
  },
  {
   "cell_type": "code",
   "execution_count": 94,
   "metadata": {},
   "outputs": [
    {
     "data": {
      "text/plain": [
       "0.7292517006802721"
      ]
     },
     "execution_count": 94,
     "metadata": {},
     "output_type": "execute_result"
    }
   ],
   "source": [
    "2*x"
   ]
  },
  {
   "cell_type": "code",
   "execution_count": 95,
   "metadata": {},
   "outputs": [
    {
     "name": "stdout",
     "output_type": "stream",
     "text": [
      "[1 0 1 1 0 1 1 0 0 1] [1 0 1 0 0 1 1 0 1 0]\n"
     ]
    }
   ],
   "source": [
    "actual_values = np.array([1,0,1,1,0,1,1,0,0,1])\n",
    "\n",
    "predicted_values = np.array([1,0,1,0,0,1,1,0,1,0])\n",
    "\n",
    "print(actual_values,predicted_values)"
   ]
  },
  {
   "cell_type": "code",
   "execution_count": 96,
   "metadata": {},
   "outputs": [
    {
     "data": {
      "text/plain": [
       "0.7"
      ]
     },
     "execution_count": 96,
     "metadata": {},
     "output_type": "execute_result"
    }
   ],
   "source": [
    "from sklearn.metrics import accuracy_score\n",
    "accuracy_score(actual_values, predicted_values)"
   ]
  },
  {
   "cell_type": "code",
   "execution_count": 97,
   "metadata": {},
   "outputs": [
    {
     "name": "stdout",
     "output_type": "stream",
     "text": [
      "0.8\n"
     ]
    }
   ],
   "source": [
    "from sklearn.metrics import precision_score\n",
    "positive=precision_score(actual_values, predicted_values, pos_label=1)\n",
    "print(positive)"
   ]
  },
  {
   "cell_type": "code",
   "execution_count": 98,
   "metadata": {},
   "outputs": [
    {
     "name": "stdout",
     "output_type": "stream",
     "text": [
      "0.6\n"
     ]
    }
   ],
   "source": [
    "negative = precision_score(actual_values, predicted_values, pos_label=0)\n",
    "print(negative)"
   ]
  },
  {
   "cell_type": "code",
   "execution_count": 99,
   "metadata": {},
   "outputs": [
    {
     "name": "stdout",
     "output_type": "stream",
     "text": [
      "0.6666666666666666\n"
     ]
    }
   ],
   "source": [
    "from sklearn.metrics import recall_score\n",
    "positive=recall_score(actual_values, predicted_values, pos_label=1)\n",
    "print(positive)"
   ]
  },
  {
   "cell_type": "code",
   "execution_count": 100,
   "metadata": {},
   "outputs": [
    {
     "name": "stdout",
     "output_type": "stream",
     "text": [
      "0.75\n"
     ]
    }
   ],
   "source": [
    "negative = recall_score(actual_values, predicted_values, pos_label=0)\n",
    "print(negative)"
   ]
  },
  {
   "cell_type": "code",
   "execution_count": 101,
   "metadata": {},
   "outputs": [
    {
     "name": "stdout",
     "output_type": "stream",
     "text": [
      "0.7272727272727272\n"
     ]
    }
   ],
   "source": [
    "from sklearn.metrics import f1_score\n",
    "positive = f1_score(actual_values, predicted_values, pos_label=1)\n",
    "print(positive)"
   ]
  },
  {
   "cell_type": "code",
   "execution_count": 102,
   "metadata": {},
   "outputs": [
    {
     "name": "stdout",
     "output_type": "stream",
     "text": [
      "0.6666666666666665\n"
     ]
    }
   ],
   "source": [
    "negative = f1_score(actual_values, predicted_values, pos_label=0)\n",
    "print(negative)"
   ]
  },
  {
   "cell_type": "code",
   "execution_count": 103,
   "metadata": {},
   "outputs": [
    {
     "name": "stdout",
     "output_type": "stream",
     "text": [
      "              precision    recall  f1-score   support\n",
      "\n",
      "           0       0.60      0.75      0.67         4\n",
      "           1       0.80      0.67      0.73         6\n",
      "\n",
      "    accuracy                           0.70        10\n",
      "   macro avg       0.70      0.71      0.70        10\n",
      "weighted avg       0.72      0.70      0.70        10\n",
      "\n"
     ]
    }
   ],
   "source": [
    "from sklearn.metrics import classification_report\n",
    "report = classification_report(actual_values, predicted_values)\n",
    "print(report)\n"
   ]
  },
  {
   "cell_type": "markdown",
   "metadata": {},
   "source": [
    "### confusion matrix with picture"
   ]
  },
  {
   "cell_type": "code",
   "execution_count": 111,
   "metadata": {},
   "outputs": [
    {
     "name": "stderr",
     "output_type": "stream",
     "text": [
      "F:\\ANACONDA\\lib\\site-packages\\sklearn\\utils\\validation.py:72: DataConversionWarning: A column-vector y was passed when a 1d array was expected. Please change the shape of y to (n_samples, ), for example using ravel().\n",
      "  return f(**kwargs)\n"
     ]
    },
    {
     "data": {
      "image/png": "[encoded data removed]",
      "text/plain": [
       "<Figure size 432x288 with 2 Axes>"
      ]
     },
     "metadata": {
      "needs_background": "light"
     },
     "output_type": "display_data"
    }
   ],
   "source": [
    "import matplotlib.pyplot as plt   # why svm is taken: because plot_confusion_matrix supports only classifiers not LR\n",
    "from sklearn.metrics import plot_confusion_matrix\n",
    "from sklearn.model_selection import train_test_split\n",
    "from sklearn.svm import LinearSVC\n",
    "x_features = actual_values.reshape(-1,1)\n",
    "y_features = predicted_values.reshape(-1,1)\n",
    "X, y = x_features,y_features\n",
    "X_train, X_test, y_train, y_test = train_test_split(\n",
    "        X, y, random_state=0)\n",
    "clf = SVC(random_state=0)\n",
    "clf.fit(X_train, y_train)\n",
    "SVC(random_state=0)\n",
    "plot_confusion_matrix(clf, X_test, y_test)  \n",
    "plt.show()  \n",
    "\n"
   ]
  },
  {
   "cell_type": "code",
   "execution_count": null,
   "metadata": {},
   "outputs": [],
   "source": []
  }
 ],
 "metadata": {
  "kernelspec": {
   "display_name": "Python 3",
   "language": "python",
   "name": "python3"
  },
  "language_info": {
   "codemirror_mode": {
    "name": "ipython",
    "version": 3
   },
   "file_extension": ".py",
   "mimetype": "text/x-python",
   "name": "python",
   "nbconvert_exporter": "python",
   "pygments_lexer": "ipython3",
   "version": "3.8.5"
  }
 },
 "nbformat": 4,
 "nbformat_minor": 4
}
