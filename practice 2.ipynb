{
 "cells": [
  {
   "cell_type": "code",
   "execution_count": 8,
   "metadata": {},
   "outputs": [
    {
     "name": "stdout",
     "output_type": "stream",
     "text": [
      "enter the string: sha@#$gdgsd$%^^&&gm.gmail.com\n",
      "shagdgsdgmgmailcom"
     ]
    }
   ],
   "source": [
    "a=input(\"enter the string: \")\n",
    "for i in a:\n",
    "    if i.isalnum():\n",
    "        print(i,end=\"\")"
   ]
  },
  {
   "cell_type": "code",
   "execution_count": 10,
   "metadata": {},
   "outputs": [
    {
     "name": "stdout",
     "output_type": "stream",
     "text": [
      "Original String :  Ge;ek * s:fo ! r;Ge * e*k:s !\n",
      "Resultant list is :  Geek  sfo  rGe  eks \n"
     ]
    }
   ],
   "source": [
    "bad_chars = [';', ':', '!', \"*\",'']\n",
    " \n",
    "# initializing test string \n",
    "test_string = \"Ge;ek * s:fo ! r;Ge * e*k:s !\"\n",
    " \n",
    "# printing original string \n",
    "print (\"Original String : \",test_string)\n",
    " \n",
    "# using replace() to \n",
    "# remove bad_chars \n",
    "for i in bad_chars:\n",
    "    test_string = test_string.replace(i, '')\n",
    "\n",
    "print (\"Resultant list is : \",str(test_string))"
   ]
  },
  {
   "cell_type": "code",
   "execution_count": 13,
   "metadata": {},
   "outputs": [
    {
     "name": "stdout",
     "output_type": "stream",
     "text": [
      "Original String : Ge;ek * s:fo ! r;Ge * e*k:s !\n",
      "Resultant list is : Geek  sfo  rGe  eks \n"
     ]
    }
   ],
   "source": [
    "bad_chars = [';', ':', '!', \"*\"]\n",
    " \n",
    "# initializing test string \n",
    "test_string = \"Ge;ek * s:fo ! r;Ge * e*k:s !\"\n",
    " \n",
    "# printing original string \n",
    "print (\"Original String : \" + test_string)\n",
    " \n",
    "# using join() + generator to \n",
    "# remove bad_chars \n",
    "test_string = ''.join(i for i in test_string if not i in bad_chars)\n",
    " \n",
    "# printing resultant string \n",
    "print (\"Resultant list is : \" + str(test_string))"
   ]
  },
  {
   "cell_type": "code",
   "execution_count": 2,
   "metadata": {},
   "outputs": [
    {
     "name": "stdout",
     "output_type": "stream",
     "text": [
      "enter the username of mail: sharath@google.com\n",
      "['google']\n"
     ]
    }
   ],
   "source": [
    "import re\n",
    "s=input(str(\"enter the username of mail: \"))\n",
    "lst =re.findall('\\@(\\S+)\\.',s) #  \"\\\" sequence of characters without space \"S\" and any character '+'\n",
    "print(lst)"
   ]
  },
  {
   "cell_type": "code",
   "execution_count": 11,
   "metadata": {},
   "outputs": [
    {
     "name": "stdout",
     "output_type": "stream",
     "text": [
      "enter the username of mail: sharath@google.com\n"
     ]
    },
    {
     "data": {
      "text/plain": [
       "'google'"
      ]
     },
     "execution_count": 11,
     "metadata": {},
     "output_type": "execute_result"
    }
   ],
   "source": [
    "def extract_company(email):\n",
    "    return email.split('@')[-1].split('.')[0]\n",
    "extract_company(input(str(\"enter the username of mail: \")))\n"
   ]
  },
  {
   "cell_type": "code",
   "execution_count": 12,
   "metadata": {},
   "outputs": [
    {
     "name": "stdout",
     "output_type": "stream",
     "text": [
      "enter the username of mail: sharath@google.com\n"
     ]
    },
    {
     "data": {
      "text/plain": [
       "'google'"
      ]
     },
     "execution_count": 12,
     "metadata": {},
     "output_type": "execute_result"
    }
   ],
   "source": [
    "def extract_company(email):\n",
    "    index_of_at = email.index('@')\n",
    "\n",
    "    return email[index_of_at+1:email.index('.')]  #start and stop method slicing as per my research\n",
    "extract_company(input(str(\"enter the username of mail: \")))\n"
   ]
  },
  {
   "cell_type": "code",
   "execution_count": 14,
   "metadata": {},
   "outputs": [
    {
     "name": "stdout",
     "output_type": "stream",
     "text": [
      "enter the username of mail: sharath@facebnool.fofo.fsojh \n"
     ]
    },
    {
     "data": {
      "text/plain": [
       "['facebnool']"
      ]
     },
     "execution_count": 14,
     "metadata": {},
     "output_type": "execute_result"
    }
   ],
   "source": [
    "def extract_company(email):\n",
    "    x= re.findall(r\"\\@(.*?)\\.\", email)  # (start of finding \\ sequence of @ this character,stop of \\ sequence of this . char\n",
    "    return x                            # and '.'inbetween any characters *? repeat zero or more times char \n",
    "                                        # / also represents escape of special characters \\@ and \\. removal\n",
    "extract_company(input(str(\"enter the username of mail: \")))\n"
   ]
  },
  {
   "cell_type": "code",
   "execution_count": 6,
   "metadata": {},
   "outputs": [
    {
     "name": "stdout",
     "output_type": "stream",
     "text": [
      "give the data of words with comma: zebra,lion,tiger,cheetah,blue whale,horse,deer,rabbit\n",
      "the sorted data of words:  blue whale,cheetah,deer,horse,lion,rabbit,tiger,zebra\n"
     ]
    }
   ],
   "source": [
    "items=[i for i in input(\"give the data of words with comma: \").split(',')]\n",
    "items.sort()\n",
    "print(\"the sorted data of words: \",','.join(items))"
   ]
  },
  {
   "cell_type": "code",
   "execution_count": 11,
   "metadata": {},
   "outputs": [
    {
     "name": "stdout",
     "output_type": "stream",
     "text": [
      "5\n",
      "21.0\n",
      "17\n",
      "4.0\n"
     ]
    }
   ],
   "source": [
    "def getMissingNo(A):\n",
    "    n = len(A)\n",
    "    print(n)\n",
    "    total = (n + 1 )*(n + 2)/2\n",
    "    print(total)\n",
    "    sum_of_A = sum(A)\n",
    "    print(sum_of_A)\n",
    "    return total - sum_of_A\n",
    "A = [1, 2, 3, 5, 6]\n",
    "miss = getMissingNo(A)\n",
    "print(miss)"
   ]
  },
  {
   "cell_type": "code",
   "execution_count": 45,
   "metadata": {},
   "outputs": [
    {
     "name": "stdout",
     "output_type": "stream",
     "text": [
      "[12, 24, 35, 88, 65, 99]\n"
     ]
    }
   ],
   "source": [
    "x= [12,24,35,12,88,24,65,88,99,35]\n",
    "\n",
    "y=[] \n",
    "[y.append(i) for i in x if i not in y]\n",
    "print(str(y))"
   ]
  },
  {
   "cell_type": "code",
   "execution_count": 1,
   "metadata": {},
   "outputs": [
    {
     "name": "stdout",
     "output_type": "stream",
     "text": [
      "[12, 24, 35, 88, 65, 99]\n"
     ]
    }
   ],
   "source": [
    "x= [12,24,35,12,88,24,65,88,99,35]\n",
    "res=list(dict.fromkeys(x))\n",
    "print(str(res))"
   ]
  },
  {
   "cell_type": "code",
   "execution_count": 13,
   "metadata": {},
   "outputs": [
    {
     "name": "stdout",
     "output_type": "stream",
     "text": [
      "Min: Mercury\n",
      "Max: Pluto\n"
     ]
    }
   ],
   "source": [
    " sol = {\"Uranus\":[2750, 3000, 2880], \"Mercury\":[46, 70, 57], \"Earth\":[147, 152, 150], \"Venus\":[107, 109, 108], \"Mars\":[205, 249, 228], \"Saturn\":[1350, 1510, 1430], \"Jupiter\":[741, 817, 779], \"Pluto\":[4440, 7380, 5910], \"Neptune\":[4450, 4550, 4500]}\n",
    "\n",
    "def distance(close=True):\n",
    "    closest = 999999 \n",
    "    farthest = 0\n",
    "    for name in sol:\n",
    "        for index in  range(len(sol[name])):\n",
    "            closefar = sol[name][index]\n",
    "            if close :\n",
    "                if closefar < closest :\n",
    "                    closefarname = name\n",
    "                    closest = closefar\n",
    "            else :\n",
    "                if closefar > farthest :\n",
    "                    closefarname = name\n",
    "                    farthest = closefar\n",
    "    return closefarname\n",
    "\n",
    "print(\"Min:\", distance(True))\n",
    "print(\"Max:\", distance(False))"
   ]
  },
  {
   "cell_type": "markdown",
   "metadata": {},
   "source": [
    "# generators"
   ]
  },
  {
   "cell_type": "code",
   "execution_count": 3,
   "metadata": {},
   "outputs": [
    {
     "name": "stdout",
     "output_type": "stream",
     "text": [
      "[0, 1, 1, 2, 3, 5, 8, 13]\n"
     ]
    }
   ],
   "source": [
    "def feb(limit):\n",
    "    a,b= 0,1\n",
    "    if limit==1:\n",
    "        print(a)\n",
    "    while a<limit:\n",
    "        yield a\n",
    "        c = a+b\n",
    "        a = b\n",
    "        b = c\n",
    "print([i for i in feb(20)])"
   ]
  },
  {
   "cell_type": "markdown",
   "metadata": {},
   "source": [
    "# decorators"
   ]
  },
  {
   "cell_type": "code",
   "execution_count": 15,
   "metadata": {},
   "outputs": [
    {
     "name": "stdout",
     "output_type": "stream",
     "text": [
      "function2\n",
      "function1\n"
     ]
    }
   ],
   "source": [
    "def function1():\n",
    "    print(\"function1\")\n",
    "    \n",
    "def function2(func):\n",
    "    print(\"function2\")\n",
    "    func()\n",
    "function2(function1)"
   ]
  },
  {
   "cell_type": "code",
   "execution_count": 12,
   "metadata": {},
   "outputs": [
    {
     "name": "stdout",
     "output_type": "stream",
     "text": [
      "learning decoraties\n",
      "<function abc_upper.<locals>.inner at 0x00B22418>\n",
      "LEARNING DECORATIES\n"
     ]
    }
   ],
   "source": [
    "def abc_upper(func):\n",
    "    def inner():\n",
    "        str1 = func()\n",
    "        return str1.upper()\n",
    "    return inner \n",
    "def abc_lower():\n",
    "    return(\"learning decoraties\")\n",
    "print(abc_lower())\n",
    "\n",
    "d=abc_upper(abc_lower)\n",
    "print(d)\n",
    "print(d())"
   ]
  },
  {
   "cell_type": "code",
   "execution_count": 18,
   "metadata": {},
   "outputs": [
    {
     "name": "stdout",
     "output_type": "stream",
     "text": [
      "<function upper_abc.<locals>.inner at 0x00B22418>\n",
      "LEARNING DECORATIES\n"
     ]
    }
   ],
   "source": [
    "def upper_abc(func):\n",
    "    def inner():\n",
    "        str1=func()\n",
    "        return str1.upper()\n",
    "    return inner\n",
    "@upper_abc\n",
    "def lower_abc():\n",
    "    return(\"learning decoraties\")\n",
    "print(lower_abc)\n",
    "print(lower_abc())\n"
   ]
  },
  {
   "cell_type": "code",
   "execution_count": null,
   "metadata": {},
   "outputs": [],
   "source": []
  }
 ],
 "metadata": {
  "kernelspec": {
   "display_name": "Python 3",
   "language": "python",
   "name": "python3"
  },
  "language_info": {
   "codemirror_mode": {
    "name": "ipython",
    "version": 3
   },
   "file_extension": ".py",
   "mimetype": "text/x-python",
   "name": "python",
   "nbconvert_exporter": "python",
   "pygments_lexer": "ipython3",
   "version": "3.8.3"
  }
 },
 "nbformat": 4,
 "nbformat_minor": 4
}
