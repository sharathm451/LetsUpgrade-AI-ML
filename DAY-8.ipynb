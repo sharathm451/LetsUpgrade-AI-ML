{
 "cells": [
  {
   "cell_type": "markdown",
   "metadata": {},
   "source": [
    "# RECREATE NB 21 MAP,LAMBDA AND FILTER ETC.."
   ]
  },
  {
   "cell_type": "markdown",
   "metadata": {},
   "source": [
    "### MAP (functions, iterables)"
   ]
  },
  {
   "cell_type": "code",
   "execution_count": 3,
   "metadata": {},
   "outputs": [
    {
     "name": "stdout",
     "output_type": "stream",
     "text": [
      "<map object at 0x0479E628>\n",
      "[1, 4, 9, 16]\n"
     ]
    }
   ],
   "source": [
    "def mul(a):\n",
    "    return a * a\n",
    "x = map(mul,(1,2,3,4))\n",
    "print(x)\n",
    "print(list(x))"
   ]
  },
  {
   "cell_type": "code",
   "execution_count": 5,
   "metadata": {},
   "outputs": [
    {
     "name": "stdout",
     "output_type": "stream",
     "text": [
      "[10, 12, 4, 12]\n"
     ]
    }
   ],
   "source": [
    "def add(a):\n",
    "    return a + a\n",
    "x = map(add,[5,6,2,6])\n",
    "print(list(x))"
   ]
  },
  {
   "cell_type": "code",
   "execution_count": 6,
   "metadata": {},
   "outputs": [
    {
     "name": "stdout",
     "output_type": "stream",
     "text": [
      "[10, 20, 81, 9, 28]\n"
     ]
    }
   ],
   "source": [
    "def sqr(a,b):\n",
    "    return a * b\n",
    "print(list(map(sqr,[2,5,9,3,4],[5,4,9,3,7])))"
   ]
  },
  {
   "cell_type": "code",
   "execution_count": 8,
   "metadata": {},
   "outputs": [
    {
     "name": "stdout",
     "output_type": "stream",
     "text": [
      "[0, 1, 4, 9, 16, 25]\n"
     ]
    }
   ],
   "source": [
    "def com(a,b):\n",
    "    return a*b\n",
    "# your code goes here3\n",
    "print(list(map(com, [ i for i in range(6)], (i for i in range(7)) )))"
   ]
  },
  {
   "cell_type": "markdown",
   "metadata": {},
   "source": [
    "### Lambda(arguments, expression)"
   ]
  },
  {
   "cell_type": "code",
   "execution_count": 23,
   "metadata": {},
   "outputs": [
    {
     "data": {
      "text/plain": [
       "32"
      ]
     },
     "execution_count": 23,
     "metadata": {},
     "output_type": "execute_result"
    }
   ],
   "source": [
    "t = lambda x,y:x**y\n",
    "t(2,5)"
   ]
  },
  {
   "cell_type": "code",
   "execution_count": 31,
   "metadata": {},
   "outputs": [
    {
     "name": "stdout",
     "output_type": "stream",
     "text": [
      "<function abc.<locals>.<lambda> at 0x00AC7028>\n",
      "15\n"
     ]
    }
   ],
   "source": [
    "def abc(n):\n",
    "    return lambda m:m*n\n",
    "t= abc(5)\n",
    "print(t)\n",
    "print(t(3))"
   ]
  },
  {
   "cell_type": "code",
   "execution_count": 1,
   "metadata": {},
   "outputs": [
    {
     "name": "stdout",
     "output_type": "stream",
     "text": [
      "22\n"
     ]
    }
   ],
   "source": [
    "# linear expressions\n",
    "# snippet 1 y=mx+c\n",
    "z = lambda x:4*x+6\n",
    "y=print(z(4))\n"
   ]
  },
  {
   "cell_type": "code",
   "execution_count": 2,
   "metadata": {},
   "outputs": [
    {
     "data": {
      "text/plain": [
       "7"
      ]
     },
     "execution_count": 2,
     "metadata": {},
     "output_type": "execute_result"
    }
   ],
   "source": [
    "# Snippet 2: 3x+2y\n",
    "z = lambda x,y: 3*x+2*y\n",
    "z(1,2)"
   ]
  },
  {
   "cell_type": "code",
   "execution_count": 1,
   "metadata": {},
   "outputs": [
    {
     "data": {
      "text/plain": [
       "43"
      ]
     },
     "execution_count": 1,
     "metadata": {},
     "output_type": "execute_result"
    }
   ],
   "source": [
    "# Quadratic expressions\n",
    "# snippet 1 (a+b+c)^2\n",
    "z = lambda u,v,x: 3*u+3*v+7*x\n",
    "z(3,2,4)\n"
   ]
  },
  {
   "cell_type": "code",
   "execution_count": 4,
   "metadata": {},
   "outputs": [
    {
     "data": {
      "text/plain": [
       "50"
      ]
     },
     "execution_count": 4,
     "metadata": {},
     "output_type": "execute_result"
    }
   ],
   "source": [
    "# snippet 2 (ax^2 +bx +c)\n",
    "z = lambda x:2*x**2+3*x+6\n",
    "z(4)"
   ]
  },
  {
   "cell_type": "code",
   "execution_count": 36,
   "metadata": {},
   "outputs": [
    {
     "name": "stdout",
     "output_type": "stream",
     "text": [
      "[3, 4, 5, 6, 7]\n"
     ]
    }
   ],
   "source": [
    "# Use lambda functions along with map function\n",
    "l = range(5)\n",
    "x = map(lambda x: x+3,l)\n",
    "print(list(x))\n"
   ]
  },
  {
   "cell_type": "markdown",
   "metadata": {},
   "source": [
    "### Filter(functions,iterables)"
   ]
  },
  {
   "cell_type": "code",
   "execution_count": 11,
   "metadata": {},
   "outputs": [
    {
     "name": "stdout",
     "output_type": "stream",
     "text": [
      "[2, 4, 6, 8]\n"
     ]
    }
   ],
   "source": [
    "def abc(l):\n",
    "    if l%2==0:\n",
    "        return l\n",
    "x= filter(abc, range(10))\n",
    "print(list(x))\n"
   ]
  },
  {
   "cell_type": "code",
   "execution_count": 16,
   "metadata": {},
   "outputs": [
    {
     "name": "stdout",
     "output_type": "stream",
     "text": [
      "[1, 3, 5, 7, 9]\n"
     ]
    }
   ],
   "source": [
    "z = filter(lambda l: l%2!=0,range(10))\n",
    "print(list(z))"
   ]
  },
  {
   "cell_type": "code",
   "execution_count": 10,
   "metadata": {},
   "outputs": [
    {
     "name": "stdout",
     "output_type": "stream",
     "text": [
      "[2, 3, 4, 5, 6, 7]\n"
     ]
    }
   ],
   "source": [
    "l=list(range(2,9))\n",
    "x=filter(lambda x:x<=7,l)\n",
    "print(list(x))"
   ]
  },
  {
   "cell_type": "markdown",
   "metadata": {},
   "source": [
    "### Reduce(functions,iterables)"
   ]
  },
  {
   "cell_type": "code",
   "execution_count": 3,
   "metadata": {},
   "outputs": [
    {
     "name": "stdout",
     "output_type": "stream",
     "text": [
      "5040\n"
     ]
    }
   ],
   "source": [
    "from functools import reduce # its required here\n",
    "def abc(a,b):\n",
    "    return a*b\n",
    "# your code goes here1+5\n",
    "x = reduce(abc, [6,2,5,7,3,4])\n",
    "print(x)\n"
   ]
  },
  {
   "cell_type": "code",
   "execution_count": 4,
   "metadata": {},
   "outputs": [
    {
     "name": "stdout",
     "output_type": "stream",
     "text": [
      "394084245522141626953485431836389151728191722497516426553221541823493367658800961065564478638820000356056388337167035542074008945401913950236214360506399705231203021164366069389563701733455174652493802096528279659381259483508916176782516892616322154881870596505654577774329808187256502370468256875376316278135937985788160888518809137837873180086327183792757748702946460720720770436177477377229784500022657580657233628383930137914619684009220791267089768552182903618603146950084219242780072578071648001265726679873751772302343114358428552134991938056446803917216962620267368806273089867659639177213488960155211698149211030681779788578141054359274289556411400436598704927821275214881488970218576557325551889577507340928956338410400961096026352642413831783448576\n"
     ]
    }
   ],
   "source": [
    "l=list(range(2,8))\n",
    "z = reduce(lambda x,y: x**y, l )\n",
    "print(z)"
   ]
  },
  {
   "cell_type": "code",
   "execution_count": 6,
   "metadata": {},
   "outputs": [
    {
     "name": "stdout",
     "output_type": "stream",
     "text": [
      "20160\n"
     ]
    }
   ],
   "source": [
    "# filter within reduce\n",
    "x = reduce(lambda x,y: x*y, filter(lambda x:x>=3, [4,5,3,2,8,6,1,7,]))\n",
    "print(x)"
   ]
  },
  {
   "cell_type": "code",
   "execution_count": 7,
   "metadata": {},
   "outputs": [
    {
     "name": "stdout",
     "output_type": "stream",
     "text": [
      "-50\n"
     ]
    }
   ],
   "source": [
    "# map within reduce\n",
    "x = reduce(lambda x,y: x-y, map(lambda x:x+3,[2,8,3,4,6,5,7,1]))\n",
    "print(x)"
   ]
  },
  {
   "cell_type": "code",
   "execution_count": 8,
   "metadata": {},
   "outputs": [
    {
     "name": "stdout",
     "output_type": "stream",
     "text": [
      "41\n"
     ]
    }
   ],
   "source": [
    "# map and filter within reduce\n",
    "x = reduce(lambda x,y: x+y,  filter(lambda x:x>=3, map(lambda x: x+3, (2,5,3,1,0,5,4,))))\n",
    "print(x)\n"
   ]
  },
  {
   "cell_type": "markdown",
   "metadata": {},
   "source": [
    "# RECREATE NB FOR CLASSES AND OBJECTS"
   ]
  },
  {
   "cell_type": "markdown",
   "metadata": {},
   "source": [
    "### Abstraction"
   ]
  },
  {
   "cell_type": "code",
   "execution_count": 14,
   "metadata": {},
   "outputs": [
    {
     "name": "stdout",
     "output_type": "stream",
     "text": [
      "eat the flesh\n",
      "eat the plants\n"
     ]
    }
   ],
   "source": [
    "from abc import ABC,abstractmethod # need to import pre defined abstract base class and abstract method\n",
    "\n",
    "class Animal(ABC):\n",
    "    @abstractmethod          # abstract method are not to implementations just to declare \n",
    "    def eat(self):\n",
    "        pass                 # objects cannot be created to abstract class\n",
    "class Tiger(Animal):\n",
    "    def eat(self):\n",
    "        print(\"eat the flesh\")   # so we need to create sub abstract classes and their objects can be created and invoked\n",
    "class cow(Animal):\n",
    "    def eat(self):\n",
    "        print(\"eat the plants\")\n",
    "        \n",
    "x=Tiger()\n",
    "x.eat()\n",
    "t=cow()\n",
    "t.eat()\n",
    "        "
   ]
  },
  {
   "cell_type": "code",
   "execution_count": 21,
   "metadata": {},
   "outputs": [
    {
     "name": "stdout",
     "output_type": "stream",
     "text": [
      "this is animals life\n"
     ]
    }
   ],
   "source": [
    "from abc import ABC,abstractmethod\n",
    "\n",
    "class subjects(ABC):\n",
    "    @abstractmethod\n",
    "    def zoological(self):\n",
    "        pass\n",
    "    @abstractmethod\n",
    "    def botonical(self):     # two abstract methods in abstract class\n",
    "        pass\n",
    "    \n",
    "class science(subjects):\n",
    "    def zoological(self):                    # can't create object with one sub abstract class method \n",
    "            print(\"this is animals life\")   \n",
    "                                            # required same no. of methods as in abstract class\n",
    "class botany(science):\n",
    "    def botonical(self):                    # or else required sub classes  and should be sub of sub classes of parent class\n",
    "        print(\"this is plants life\")\n",
    "        \n",
    "        \n",
    "x=botany()\n",
    "x.zoological()"
   ]
  },
  {
   "cell_type": "code",
   "execution_count": 25,
   "metadata": {},
   "outputs": [
    {
     "name": "stdout",
     "output_type": "stream",
     "text": [
      "120\n",
      "-5\n"
     ]
    }
   ],
   "source": [
    "from abc import ABC,abstractmethod\n",
    "\n",
    "class maths(ABC):\n",
    "    def __init__(self,value):\n",
    "        self.value = value\n",
    "        \n",
    "    @abstractmethod\n",
    "    def add(self):    \n",
    "        pass\n",
    "    @abstractmethod\n",
    "    def sub(self):     # two abstract methods in abstract class\n",
    "        pass\n",
    "        \n",
    "class arithmatic(maths):\n",
    "    def add(self):\n",
    "        print(self.value+100)\n",
    "        \n",
    "    def sub(self):\n",
    "        print(self.value-25)\n",
    "        \n",
    "        \n",
    "x=arithmatic(20)\n",
    "x.add()\n",
    "x.sub()\n"
   ]
  },
  {
   "cell_type": "code",
   "execution_count": 35,
   "metadata": {},
   "outputs": [
    {
     "name": "stdout",
     "output_type": "stream",
     "text": [
      "its running\n",
      "its writing\n",
      "solving bugs\n",
      "its running\n"
     ]
    }
   ],
   "source": [
    "from abc import ABC,abstractmethod\n",
    "\n",
    "class computer(ABC):\n",
    "    @abstractmethod\n",
    "    def process(self):\n",
    "        pass\n",
    "class laptop(computer):\n",
    "    def process(self):\n",
    "        print(\"its running\")\n",
    "class whiteboard:\n",
    "    def process(self):\n",
    "        print(\"its writing\")\n",
    "        \n",
    "class programmer:\n",
    "    def work(self,com):\n",
    "            print(\"solving bugs\")\n",
    "            com.process()\n",
    "\n",
    "\n",
    "com1=laptop()\n",
    "com1.process()\n",
    "\n",
    "com2=whiteboard()\n",
    "com2.process()\n",
    "\n",
    "prog1=programmer()\n",
    "prog1.work(com)"
   ]
  },
  {
   "cell_type": "markdown",
   "metadata": {},
   "source": [
    "# Encapsulation"
   ]
  },
  {
   "cell_type": "code",
   "execution_count": 45,
   "metadata": {},
   "outputs": [
    {
     "name": "stdout",
     "output_type": "stream",
     "text": [
      "Calling protected member of base class: \n",
      "2\n"
     ]
    },
    {
     "ename": "AttributeError",
     "evalue": "'Base' object has no attribute 'a'",
     "output_type": "error",
     "traceback": [
      "\u001b[1;31m---------------------------------------------------------------------------\u001b[0m",
      "\u001b[1;31mAttributeError\u001b[0m                            Traceback (most recent call last)",
      "\u001b[1;32m<ipython-input-45-5cae85e0ef50>\u001b[0m in \u001b[0;36m<module>\u001b[1;34m\u001b[0m\n\u001b[0;32m     20\u001b[0m \u001b[1;31m# Outside class will  result in\u001b[0m\u001b[1;33m\u001b[0m\u001b[1;33m\u001b[0m\u001b[1;33m\u001b[0m\u001b[0m\n\u001b[0;32m     21\u001b[0m \u001b[1;31m# AttributeError\u001b[0m\u001b[1;33m\u001b[0m\u001b[1;33m\u001b[0m\u001b[1;33m\u001b[0m\u001b[0m\n\u001b[1;32m---> 22\u001b[1;33m \u001b[0mprint\u001b[0m\u001b[1;33m(\u001b[0m\u001b[0mobj2\u001b[0m\u001b[1;33m.\u001b[0m\u001b[0ma\u001b[0m\u001b[1;33m)\u001b[0m\u001b[1;33m\u001b[0m\u001b[1;33m\u001b[0m\u001b[0m\n\u001b[0m",
      "\u001b[1;31mAttributeError\u001b[0m: 'Base' object has no attribute 'a'"
     ]
    }
   ],
   "source": [
    "class Base:\n",
    "    def __init__(self):\n",
    "         \n",
    "        # Protected member\n",
    "        self._a = 2\n",
    "class Derived(Base):\n",
    "    def __init__(self):\n",
    "         \n",
    "        # Calling constructor of\n",
    "        # Base class\n",
    "        Base.__init__(self) \n",
    "        print(\"Calling protected member of base class: \")\n",
    "        print(self._a)\n",
    " \n",
    "obj1 = Derived()\n",
    "         \n",
    "obj2 = Base()\n",
    " \n",
    "# Calling protected member\n",
    "# Outside class will  result in \n",
    "# AttributeError\n",
    "print(obj2.a)"
   ]
  },
  {
   "cell_type": "code",
   "execution_count": 2,
   "metadata": {},
   "outputs": [
    {
     "name": "stdout",
     "output_type": "stream",
     "text": [
      "password is updating\n",
      "100\n",
      "200\n",
      "learning program\n",
      "20\n",
      "50\n"
     ]
    },
    {
     "ename": "AttributeError",
     "evalue": "'computer' object has no attribute '__users'",
     "output_type": "error",
     "traceback": [
      "\u001b[1;31m---------------------------------------------------------------------------\u001b[0m",
      "\u001b[1;31mAttributeError\u001b[0m                            Traceback (most recent call last)",
      "\u001b[1;32m<ipython-input-2-838e8fd69af1>\u001b[0m in \u001b[0;36m<module>\u001b[1;34m\u001b[0m\n\u001b[0;32m     31\u001b[0m \u001b[0mobj\u001b[0m\u001b[1;33m.\u001b[0m\u001b[0msetusers\u001b[0m\u001b[1;33m(\u001b[0m\u001b[1;36m50\u001b[0m\u001b[1;33m)\u001b[0m\u001b[1;33m\u001b[0m\u001b[1;33m\u001b[0m\u001b[0m\n\u001b[0;32m     32\u001b[0m \u001b[1;33m\u001b[0m\u001b[0m\n\u001b[1;32m---> 33\u001b[1;33m \u001b[0mobj\u001b[0m\u001b[1;33m.\u001b[0m\u001b[0m__users\u001b[0m\u001b[1;33m(\u001b[0m\u001b[1;33m)\u001b[0m \u001b[1;31m# error occurs\u001b[0m\u001b[1;33m\u001b[0m\u001b[1;33m\u001b[0m\u001b[0m\n\u001b[0m\u001b[0;32m     34\u001b[0m               \u001b[1;31m# print(\"member of class can only call and access private variables and methods\")\u001b[0m\u001b[1;33m\u001b[0m\u001b[1;33m\u001b[0m\u001b[1;33m\u001b[0m\u001b[0m\n",
      "\u001b[1;31mAttributeError\u001b[0m: 'computer' object has no attribute '__users'"
     ]
    }
   ],
   "source": [
    "class computer:\n",
    "    __projects=\"\"\n",
    "    __users=0\n",
    "    def __init__(self):\n",
    "        self.__passwords()  # private method\n",
    "        \n",
    "        self.public='100'   # public variable\n",
    "        print(self.public)  \n",
    "        \n",
    "        self.__projects=\"hacking\"   # private class variablesclas  clas\n",
    "        self.__users=20\n",
    "        \n",
    "    def work(self,n):\n",
    "        self.public=n\n",
    "        print(self.public)\n",
    "        print(\"learning program\")\n",
    "        print(self.__users)          # call/access of private variables by its own class members\n",
    "        \n",
    "    def setusers(self,total):       \n",
    "        self.__users=total       # private variables edit and access is within the class methods as members\n",
    "        print(self.__users)\n",
    "        \n",
    "    def __passwords(self):\n",
    "        print(\"password is updating\")  # this method is called by init constructor\n",
    "        \n",
    "        \n",
    "obj=computer()\n",
    "\n",
    "obj.work(200)\n",
    "\n",
    "obj.setusers(50)\n",
    "\n",
    "obj.__users() # error occurs\n",
    "              # print(\"member of class can only call and access private variables and methods\")"
   ]
  },
  {
   "cell_type": "markdown",
   "metadata": {},
   "source": [
    "  # INHERITANCE"
   ]
  },
  {
   "cell_type": "code",
   "execution_count": 19,
   "metadata": {},
   "outputs": [
    {
     "name": "stdout",
     "output_type": "stream",
     "text": [
      "principle 1 is working\n",
      "principle 2 is working\n",
      "principle 3 is working\n",
      "principle 4 is working\n",
      "principle 1 is working\n",
      "principle 2 is working\n",
      "feature 1 is working\n",
      "feature 2 is working\n",
      "feature 1 is working\n",
      "feature 1 is working\n",
      "feature 4 is working\n",
      "high quality features\n",
      "a beast and rough structure\n"
     ]
    }
   ],
   "source": [
    "# single level inheritance\n",
    "class A:\n",
    "    def process1(self):\n",
    "        print(\"principle 1 is working\")\n",
    "        print(\"principle 2 is working\")\n",
    "class B(A):\n",
    "    def process2(self):\n",
    "        print(\"principle 3 is working\")\n",
    "        print(\"principle 4 is working\")\n",
    "obj1=A()\n",
    "obj1.process1()\n",
    "\n",
    "obj2=B()\n",
    "obj2.process2()\n",
    "obj2.process1()\n",
    "\n",
    "# multi level inheritance\n",
    "class roots:\n",
    "    def nature(self):\n",
    "        print(\"feature 1 is working\")\n",
    "        \n",
    "class trees(roots):\n",
    "    def nature1(self):\n",
    "        print(\"feature 2 is working\")\n",
    "        \n",
    "class branches(trees):\n",
    "    def nature2(self):\n",
    "        print(\"feature 3 is working\")\n",
    "        \n",
    "class leaves(branches):\n",
    "    def nature3(self):\n",
    "        print(\"feature 4 is working\")\n",
    "        \n",
    "\n",
    "obj1=roots()\n",
    "obj1.nature()\n",
    "\n",
    "obj2=trees()\n",
    "obj2.nature1()\n",
    "obj2.nature()\n",
    "\n",
    "obj3=branches()\n",
    "obj3.nature()\n",
    "\n",
    "obj4=leaves()\n",
    "obj4.nature3()\n",
    "\n",
    "# multiple inheritance\n",
    "class A:\n",
    "    def trait(self):\n",
    "        print(\"high quality features\")\n",
    "        \n",
    "class B:\n",
    "    def structure(self):\n",
    "        print(\"a beast and rough structure\")\n",
    "class C(A,B):\n",
    "    def behaviour(self):\n",
    "        print(\"very polite and patient \")\n",
    "        \n",
    "obj1=A()\n",
    "obj2=B()\n",
    "obj3=C()\n",
    "\n",
    "obj1.trait()\n",
    "obj3.structure()   \n"
   ]
  },
  {
   "cell_type": "code",
   "execution_count": 27,
   "metadata": {},
   "outputs": [
    {
     "name": "stdout",
     "output_type": "stream",
     "text": [
      "init in A\n",
      " init in B\n",
      "init in A\n",
      "init in C\n",
      "common feature is working of A\n"
     ]
    }
   ],
   "source": [
    "# constructors in inheritance \n",
    "\n",
    "class A():\n",
    "    def __init__(self):\n",
    "        print(\"init in A\")\n",
    "        \n",
    "    def feature1(self):\n",
    "        print(\"feature1  is working\")\n",
    "        \n",
    "    def feature2(self):\n",
    "        print(\"feature2  is working\")\n",
    "\n",
    "class B(A):\n",
    "    def __init__(self):\n",
    "        super().__init__()       # to access the super class constructor \n",
    "        print(\" init in B\")\n",
    "        \n",
    "    def feature3(self):\n",
    "        print(\"feature3 is working\")\n",
    "        \n",
    "    def feature4(self):\n",
    "        print(\"feature4  is working\")\n",
    "        \n",
    "class A():\n",
    "    def __init__(self):\n",
    "        print(\"init in A\")\n",
    "        \n",
    "    def feature1(self):                            # 1) how constructor behaves in inheritance model \n",
    "        print(\"feature1  is working\")          \n",
    "                                         # if no constructor in sub class inherits super class constructor by default\n",
    "    def feature2(self):                            \n",
    "        print(\"feature2  is working\")    # if constructor in sub class then no access to super class untill with manual call\n",
    "                                         # as super().\n",
    "    def feature(self):\n",
    "        print(\"common feature is working of A\")\n",
    "\n",
    "class B():\n",
    "    def __init__(self):                               # 2)  how to acces super class methods which mean \n",
    "        super().__init__()                                  # how to use super() in inheritance \n",
    "        print(\" init in B\")\n",
    "        \n",
    "    def feature3(self):\n",
    "        print(\"feature3 is working\")\n",
    "        \n",
    "    def feature4(self):\n",
    "        print(\"feature4  is working\")\n",
    "        \n",
    "        \n",
    "    def feature(self):\n",
    "        print(\"common feature is working of B\")\n",
    "        \n",
    "class C(A,B):\n",
    "    def __init__(self):\n",
    "        super().__init__()                                  # 3) METHOD RESOLUTION ORDER (FROM LEFT TO RIGHT FOLLOWS)\n",
    "        print(\"init in C\")\n",
    "        \n",
    "    def feature5(self):\n",
    "        super().feature()\n",
    "\n",
    "obj1=A()\n",
    "obj2=B()\n",
    "obj3=C()\n",
    "obj3.feature5()\n",
    "\n",
    "\n"
   ]
  },
  {
   "cell_type": "markdown",
   "metadata": {},
   "source": [
    "# Polymorphism"
   ]
  },
  {
   "cell_type": "markdown",
   "metadata": {},
   "source": [
    "## 1) Duck Typing"
   ]
  },
  {
   "cell_type": "code",
   "execution_count": 3,
   "metadata": {},
   "outputs": [
    {
     "name": "stdout",
     "output_type": "stream",
     "text": [
      "spell check\n",
      "convention check\n",
      "compiling\n",
      "running\n"
     ]
    }
   ],
   "source": [
    "class pycharm:\n",
    "    def execute(self):\n",
    "        print(\"compiling\")\n",
    "        print(\"running\")\n",
    "        \n",
    "class myeditor:\n",
    "    def execute(self):\n",
    "        print(\"spell check\")\n",
    "        print(\"convention check\")\n",
    "        print(\"compiling\")\n",
    "        print(\"running\")\n",
    "        \n",
    "class laptop:\n",
    "    def code(self,ide):\n",
    "        ide.execute()\n",
    "        \n",
    "ide=myeditor()\n",
    "\n",
    "lap1=laptop()\n",
    "lap1.code(ide)"
   ]
  },
  {
   "cell_type": "markdown",
   "metadata": {},
   "source": [
    "## 2)Operator Overloading:"
   ]
  },
  {
   "cell_type": "code",
   "execution_count": 3,
   "metadata": {},
   "outputs": [
    {
     "name": "stdout",
     "output_type": "stream",
     "text": [
      "11\n"
     ]
    },
    {
     "data": {
      "text/plain": [
       "30"
      ]
     },
     "execution_count": 3,
     "metadata": {},
     "output_type": "execute_result"
    }
   ],
   "source": [
    "# snippets \n",
    "a = 5\n",
    "b = 6\n",
    "print(a+b)\n",
    "int.__add__(a,b)   # Magic methods\n",
    "int.__mul__(a,b)   # in-built backgrounds behinds"
   ]
  },
  {
   "cell_type": "code",
   "execution_count": 4,
   "metadata": {},
   "outputs": [
    {
     "name": "stdout",
     "output_type": "stream",
     "text": [
      "40 105\n",
      "s2 wins\n",
      "9\n",
      "15 30 \n",
      "25 75 \n"
     ]
    }
   ],
   "source": [
    "class students:\n",
    "    def __init__(self,m1,m2):\n",
    "        self.m1=m1\n",
    "        self.m2=m2\n",
    "        \n",
    "    def __add__(self,other):\n",
    "        m1=self.m1+other.m1\n",
    "        m2=self.m2+other.m2\n",
    "        s3=students(m1,m2)\n",
    "        \n",
    "        return s3\n",
    "    def __gt__(self,other):\n",
    "        r1=self.m1+self.m2\n",
    "        r2=self.m1+self.m2\n",
    "        if r1>r2:\n",
    "            return True\n",
    "        else:\n",
    "            return False\n",
    "        \n",
    "    def __str__(self):\n",
    "        return '{} {} '.format(self.m1,self.m2)\n",
    "        \n",
    "s1=students(15,30)\n",
    "s2=students(25,75)\n",
    "\n",
    "s3=s1+s2\n",
    "print(s3.m1,s3.m2)\n",
    "\n",
    "if s1>s2:\n",
    "    print(\"s1 wins\")\n",
    "else:\n",
    "    print(\"s2 wins\")\n",
    "    \n",
    "a=9\n",
    "print(a.__str__())\n",
    "print(s1)\n",
    "print(s2)\n"
   ]
  },
  {
   "cell_type": "markdown",
   "metadata": {},
   "source": [
    "### 3) METHOD OVERLOADING"
   ]
  },
  {
   "cell_type": "code",
   "execution_count": 10,
   "metadata": {},
   "outputs": [
    {
     "name": "stdout",
     "output_type": "stream",
     "text": [
      "75\n"
     ]
    }
   ],
   "source": [
    "# IN PYTHON THERE IS NO METHOD OVERLOADING AS OTHER LANGUAGES CONSIST\n",
    "# In simplification method overloading is like consisting two same methods with different arguments in a class\n",
    "# snippet:\n",
    "\n",
    "class students:\n",
    "    def __init__(self,m1,m2):\n",
    "        self.m1=m1\n",
    "        self.m2=m2\n",
    "\n",
    "    def sum(self,a=None,b=None,c=None):  # as originally the no. of arguments in method depends on the object calling arguments\n",
    "        s = 0\n",
    "        \n",
    "        if a!=None and b!=None and c!=None: # But as a part of method overloading,to load more & access can use with this form\n",
    "            s = a+b+c\n",
    "        \n",
    "        elif a!=None and b!=None:\n",
    "            s = a+b\n",
    "        \n",
    "        else: \n",
    "            s = a\n",
    "            \n",
    "        return s\n",
    "    \n",
    "s=students(21,56)\n",
    "print(s.sum(16,25,34))          "
   ]
  },
  {
   "cell_type": "markdown",
   "metadata": {},
   "source": [
    "### 4) METHOD OVERIDING"
   ]
  },
  {
   "cell_type": "code",
   "execution_count": 17,
   "metadata": {},
   "outputs": [
    {
     "name": "stdout",
     "output_type": "stream",
     "text": [
      "method of A\n",
      "method of b\n"
     ]
    }
   ],
   "source": [
    "class A:\n",
    "    def display(self):\n",
    "        print(\"method of A\")\n",
    "        \n",
    "class B(A):\n",
    "    pass\n",
    "s = B()\n",
    "s.display()\n",
    "\n",
    "# previously as derived class inherits feature exactly from base class\n",
    "\n",
    "class A:\n",
    "    def display(self):\n",
    "        print(\"method of A\")\n",
    "        \n",
    "class B(A):\n",
    "    def display(self):\n",
    "        print(\"method of b\")  # this is called method overiding which can overide the body of method from super class\n",
    "        \n",
    "\n",
    "s = B()\n",
    "s.display()\n"
   ]
  },
  {
   "cell_type": "code",
   "execution_count": null,
   "metadata": {},
   "outputs": [],
   "source": []
  }
 ],
 "metadata": {
  "kernelspec": {
   "display_name": "Python 3",
   "language": "python",
   "name": "python3"
  },
  "language_info": {
   "codemirror_mode": {
    "name": "ipython",
    "version": 3
   },
   "file_extension": ".py",
   "mimetype": "text/x-python",
   "name": "python",
   "nbconvert_exporter": "python",
   "pygments_lexer": "ipython3",
   "version": "3.8.3"
  }
 },
 "nbformat": 4,
 "nbformat_minor": 4
}
