{
 "cells": [
  {
   "cell_type": "markdown",
   "metadata": {},
   "source": [
    "# Scipy(Scientific python library)"
   ]
  },
  {
   "cell_type": "markdown",
   "metadata": {},
   "source": [
    "## 1)Basic Polynomial"
   ]
  },
  {
   "cell_type": "code",
   "execution_count": 41,
   "metadata": {},
   "outputs": [
    {
     "name": "stdout",
     "output_type": "stream",
     "text": [
      "   2\n",
      "3 x + 6 x + 8\n"
     ]
    }
   ],
   "source": [
    "from numpy import poly1d\n",
    "p=poly1d([3,6,8])\n",
    "print(p)"
   ]
  },
  {
   "cell_type": "code",
   "execution_count": 42,
   "metadata": {},
   "outputs": [
    {
     "name": "stdout",
     "output_type": "stream",
     "text": [
      "   4      3      2\n",
      "9 x + 36 x + 84 x + 96 x + 64\n"
     ]
    }
   ],
   "source": [
    "print(p*p)"
   ]
  },
  {
   "cell_type": "code",
   "execution_count": 43,
   "metadata": {},
   "outputs": [
    {
     "name": "stdout",
     "output_type": "stream",
     "text": [
      "   2\n",
      "3 x + 6 x + 8\n",
      "p(2)= 32\n",
      "p(2) and p(3) [32 53]\n"
     ]
    }
   ],
   "source": [
    "print(p)\n",
    "print(\"p(2)=\",p(2))\n",
    "print(\"p(2) and p(3)\",p([2,3]))"
   ]
  },
  {
   "cell_type": "code",
   "execution_count": 44,
   "metadata": {},
   "outputs": [
    {
     "data": {
      "text/plain": [
       "array([-1.+1.29099445j, -1.-1.29099445j])"
      ]
     },
     "execution_count": 44,
     "metadata": {},
     "output_type": "execute_result"
    }
   ],
   "source": [
    "# Roots of p\n",
    "p.r"
   ]
  },
  {
   "cell_type": "code",
   "execution_count": 45,
   "metadata": {},
   "outputs": [
    {
     "data": {
      "text/plain": [
       "poly1d([3, 6, 8])"
      ]
     },
     "execution_count": 45,
     "metadata": {},
     "output_type": "execute_result"
    }
   ],
   "source": [
    "#Co-efficients of p\n",
    "p"
   ]
  },
  {
   "cell_type": "code",
   "execution_count": 46,
   "metadata": {},
   "outputs": [
    {
     "name": "stdout",
     "output_type": "stream",
     "text": [
      "   2\n",
      "3 x + 6 x + 8\n",
      "\n",
      "   2\n",
      "3 y + 6 y + 8\n"
     ]
    }
   ],
   "source": [
    "print(p)\n",
    "p1=poly1d([3,6,8],variable='y') # equation with variable as y\n",
    "print()\n",
    "print(p1)"
   ]
  },
  {
   "cell_type": "code",
   "execution_count": 47,
   "metadata": {},
   "outputs": [
    {
     "name": "stdout",
     "output_type": "stream",
     "text": [
      "   3     2\n",
      "1 x + 3 x + 8 x + 5\n"
     ]
    }
   ],
   "source": [
    "# Integration of polynomial\n",
    "print(p.integ(k=5))  # indefinite Integration constant"
   ]
  },
  {
   "cell_type": "code",
   "execution_count": 48,
   "metadata": {},
   "outputs": [
    {
     "name": "stdout",
     "output_type": "stream",
     "text": [
      " \n",
      "6 x + 6\n"
     ]
    }
   ],
   "source": [
    "# Differentiation of polynomial\n",
    "print(p.deriv())"
   ]
  },
  {
   "cell_type": "markdown",
   "metadata": {},
   "source": [
    "## 2)Special Function(import scipy.special)"
   ]
  },
  {
   "cell_type": "code",
   "execution_count": 62,
   "metadata": {},
   "outputs": [],
   "source": [
    "import scipy.special as p"
   ]
  },
  {
   "cell_type": "code",
   "execution_count": 63,
   "metadata": {},
   "outputs": [
    {
     "name": "stdout",
     "output_type": "stream",
     "text": [
      "[ 1  2  3  4  5  6  7  8  9 10]\n"
     ]
    }
   ],
   "source": [
    "import numpy as np\n",
    "a = np.arange(1,11)\n",
    "print(a)"
   ]
  },
  {
   "cell_type": "code",
   "execution_count": 64,
   "metadata": {},
   "outputs": [
    {
     "data": {
      "text/plain": [
       "array([1.        , 1.25992105, 1.44224957, 1.58740105, 1.70997595,\n",
       "       1.81712059, 1.91293118, 2.        , 2.08008382, 2.15443469])"
      ]
     },
     "execution_count": 64,
     "metadata": {},
     "output_type": "execute_result"
    }
   ],
   "source": [
    "# Cube root\n",
    "scipy.special.cbrt(a)"
   ]
  },
  {
   "cell_type": "code",
   "execution_count": 65,
   "metadata": {},
   "outputs": [
    {
     "data": {
      "text/plain": [
       "1000.0"
      ]
     },
     "execution_count": 65,
     "metadata": {},
     "output_type": "execute_result"
    }
   ],
   "source": [
    "# Exponent of 10 (exp10())\n",
    "x=3\n",
    "p.exp10(x)"
   ]
  },
  {
   "cell_type": "code",
   "execution_count": 66,
   "metadata": {},
   "outputs": [
    {
     "data": {
      "text/plain": [
       "8.0"
      ]
     },
     "execution_count": 66,
     "metadata": {},
     "output_type": "execute_result"
    }
   ],
   "source": [
    "# Exponent of 2(exp2())\n",
    "x=3\n",
    "p.exp2(x)"
   ]
  },
  {
   "cell_type": "code",
   "execution_count": 67,
   "metadata": {},
   "outputs": [
    {
     "data": {
      "text/plain": [
       "0.5390740282993153"
      ]
     },
     "execution_count": 67,
     "metadata": {},
     "output_type": "execute_result"
    }
   ],
   "source": [
    "# Degree to Radian(d,m,s)\n",
    "d=30\n",
    "m=52\n",
    "s=72\n",
    "p.radian(d,m,s)\n"
   ]
  },
  {
   "cell_type": "code",
   "execution_count": 68,
   "metadata": {},
   "outputs": [
    {
     "name": "stdout",
     "output_type": "stream",
     "text": [
      "0.49999999999999994\n",
      "0.8660254037844387\n",
      "0.5773502691896257\n"
     ]
    }
   ],
   "source": [
    "# Trignometric functions in degrees\n",
    "print(p.sindg(30))\n",
    "print(p.cosdg(30))\n",
    "print(p.tandg(30))"
   ]
  },
  {
   "cell_type": "code",
   "execution_count": 69,
   "metadata": {},
   "outputs": [
    {
     "data": {
      "text/plain": [
       "20.0"
      ]
     },
     "execution_count": 69,
     "metadata": {},
     "output_type": "execute_result"
    }
   ],
   "source": [
    "# Permutation\n",
    "p.perm(5,2)  # 5p2  n!/(n-r)!"
   ]
  },
  {
   "cell_type": "code",
   "execution_count": 70,
   "metadata": {},
   "outputs": [
    {
     "data": {
      "text/plain": [
       "10.0"
      ]
     },
     "execution_count": 70,
     "metadata": {},
     "output_type": "execute_result"
    }
   ],
   "source": [
    "# Combination\n",
    "p.comb(5,2)  # 5c2  n!/(n-r)!r!"
   ]
  },
  {
   "cell_type": "markdown",
   "metadata": {},
   "source": [
    "## 3) Integration (import scipy.integrate)"
   ]
  },
  {
   "cell_type": "markdown",
   "metadata": {},
   "source": [
    "### Numerous Types of Integration are available:\n"
   ]
  },
  {
   "cell_type": "raw",
   "metadata": {},
   "source": [
    "1 quad - single integration\n",
    "2 dblquad - double integration\n",
    "3 tplquad - triple integration\n",
    "4 nquad - n fold multiple integration\n",
    "5 and many more"
   ]
  },
  {
   "cell_type": "code",
   "execution_count": 4,
   "metadata": {},
   "outputs": [],
   "source": [
    "import scipy.integrate"
   ]
  },
  {
   "cell_type": "code",
   "execution_count": 5,
   "metadata": {},
   "outputs": [
    {
     "name": "stdout",
     "output_type": "stream",
     "text": [
      "(3.7500000000000004, 4.1633363423443377e-14)\n"
     ]
    }
   ],
   "source": [
    "# integrate(function,lower_limit,Upper_limit)\n",
    "f = lambda x:x**3\n",
    "i = scipy.integrate.quad(f,1,2)\n",
    "print(i)"
   ]
  },
  {
   "cell_type": "code",
   "execution_count": 73,
   "metadata": {},
   "outputs": [],
   "source": [
    "from numpy import exp"
   ]
  },
  {
   "cell_type": "code",
   "execution_count": 74,
   "metadata": {},
   "outputs": [
    {
     "name": "stdout",
     "output_type": "stream",
     "text": [
      "(0.08546832942957776, 2.1640276156848258e-12)\n"
     ]
    }
   ],
   "source": [
    "f = lambda x:exp(-x**3)\n",
    "i = scipy.integrate.quad(f,1,4)\n",
    "print(i)"
   ]
  },
  {
   "cell_type": "code",
   "execution_count": 75,
   "metadata": {},
   "outputs": [
    {
     "data": {
      "text/plain": [
       "(0.010416666666666668, 4.101620128472366e-16)"
      ]
     },
     "execution_count": 75,
     "metadata": {},
     "output_type": "execute_result"
    }
   ],
   "source": [
    "# Double Integration (used for area under curve)\n",
    "#scipy.integrate.dblquad(func,x- lower_limit,x- upper_limit,y- func2,y- func3)\n",
    "area=scipy.integrate.dblquad(lambda x,y:x*y,0,0.5,lambda x:0,lambda y:1-2*y)\n",
    "area"
   ]
  },
  {
   "cell_type": "markdown",
   "metadata": {},
   "source": [
    "## 4)Linear Algebra(import scipy.linalg)"
   ]
  },
  {
   "cell_type": "code",
   "execution_count": 16,
   "metadata": {},
   "outputs": [],
   "source": [
    "import scipy.linalg"
   ]
  },
  {
   "cell_type": "code",
   "execution_count": 17,
   "metadata": {},
   "outputs": [
    {
     "data": {
      "text/plain": [
       "array([[1, 2],\n",
       "       [3, 4]])"
      ]
     },
     "execution_count": 17,
     "metadata": {},
     "output_type": "execute_result"
    }
   ],
   "source": [
    "import numpy as np\n",
    "a1 = np.array([[1,2],[3,4]])\n",
    "a1\n"
   ]
  },
  {
   "cell_type": "code",
   "execution_count": 18,
   "metadata": {},
   "outputs": [
    {
     "data": {
      "text/plain": [
       "-2.0"
      ]
     },
     "execution_count": 18,
     "metadata": {},
     "output_type": "execute_result"
    }
   ],
   "source": [
    "# Determinant of a matrix\n",
    "scipy.linalg.det(a1)\n"
   ]
  },
  {
   "cell_type": "markdown",
   "metadata": {},
   "source": [
    "Compute pivoted LU decomposition of a matrix.\n",
    "\n",
    "The decomposition is::\n",
    "\n",
    "A = P L U\n",
    "\n",
    "where P is a permutation matrix, L lower triangular with unit diagonal elements, and U upper triangular."
   ]
  },
  {
   "cell_type": "code",
   "execution_count": 19,
   "metadata": {},
   "outputs": [
    {
     "data": {
      "text/plain": [
       "array([[1, 2, 3],\n",
       "       [4, 5, 6],\n",
       "       [7, 8, 8]])"
      ]
     },
     "execution_count": 19,
     "metadata": {},
     "output_type": "execute_result"
    }
   ],
   "source": [
    "A = np.array([[1,2,3],[4,5,6],[7,8,8]])\n",
    "A\n"
   ]
  },
  {
   "cell_type": "code",
   "execution_count": 23,
   "metadata": {},
   "outputs": [],
   "source": [
    "P,L,U = scipy.linalg.lu(A)"
   ]
  },
  {
   "cell_type": "code",
   "execution_count": 24,
   "metadata": {},
   "outputs": [
    {
     "data": {
      "text/plain": [
       "array([[0., 1., 0.],\n",
       "       [0., 0., 1.],\n",
       "       [1., 0., 0.]])"
      ]
     },
     "execution_count": 24,
     "metadata": {},
     "output_type": "execute_result"
    }
   ],
   "source": [
    "P"
   ]
  },
  {
   "cell_type": "code",
   "execution_count": 25,
   "metadata": {},
   "outputs": [
    {
     "data": {
      "text/plain": [
       "array([[1.        , 0.        , 0.        ],\n",
       "       [0.14285714, 1.        , 0.        ],\n",
       "       [0.57142857, 0.5       , 1.        ]])"
      ]
     },
     "execution_count": 25,
     "metadata": {},
     "output_type": "execute_result"
    }
   ],
   "source": [
    "L"
   ]
  },
  {
   "cell_type": "code",
   "execution_count": 26,
   "metadata": {},
   "outputs": [
    {
     "data": {
      "text/plain": [
       "array([[7.        , 8.        , 8.        ],\n",
       "       [0.        , 0.85714286, 1.85714286],\n",
       "       [0.        , 0.        , 0.5       ]])"
      ]
     },
     "execution_count": 26,
     "metadata": {},
     "output_type": "execute_result"
    }
   ],
   "source": [
    "U"
   ]
  },
  {
   "cell_type": "markdown",
   "metadata": {},
   "source": [
    "We can find out the eigenvector and eigenvalues of a matrix:\n",
    "\n",
    "\n"
   ]
  },
  {
   "cell_type": "code",
   "execution_count": 28,
   "metadata": {},
   "outputs": [],
   "source": [
    "EV,EW = scipy.linalg.eig(A)"
   ]
  },
  {
   "cell_type": "code",
   "execution_count": 29,
   "metadata": {},
   "outputs": [
    {
     "data": {
      "text/plain": [
       "array([15.55528261+0.j, -1.41940876+0.j, -0.13587385+0.j])"
      ]
     },
     "execution_count": 29,
     "metadata": {},
     "output_type": "execute_result"
    }
   ],
   "source": [
    "EV"
   ]
  },
  {
   "cell_type": "code",
   "execution_count": 30,
   "metadata": {},
   "outputs": [
    {
     "data": {
      "text/plain": [
       "array([[-0.24043423, -0.67468642,  0.51853459],\n",
       "       [-0.54694322, -0.23391616, -0.78895962],\n",
       "       [-0.80190056,  0.70005819,  0.32964312]])"
      ]
     },
     "execution_count": 30,
     "metadata": {},
     "output_type": "execute_result"
    }
   ],
   "source": [
    "EW"
   ]
  },
  {
   "cell_type": "markdown",
   "metadata": {},
   "source": [
    "Solving systems of linear equations can also be done:\n",
    "\n"
   ]
  },
  {
   "cell_type": "code",
   "execution_count": 31,
   "metadata": {},
   "outputs": [
    {
     "data": {
      "text/plain": [
       "array([[1],\n",
       "       [6],\n",
       "       [8]])"
      ]
     },
     "execution_count": 31,
     "metadata": {},
     "output_type": "execute_result"
    }
   ],
   "source": [
    "B = np.array([[1],[6],[8]])\n",
    "B"
   ]
  },
  {
   "cell_type": "code",
   "execution_count": 32,
   "metadata": {},
   "outputs": [
    {
     "data": {
      "text/plain": [
       "array([[4, 3, 8],\n",
       "       [2, 8, 6],\n",
       "       [1, 9, 7]])"
      ]
     },
     "execution_count": 32,
     "metadata": {},
     "output_type": "execute_result"
    }
   ],
   "source": [
    "A = np.array([[4,3,8],[2,8,6],[1,9,7]])\n",
    "A\n"
   ]
  },
  {
   "cell_type": "markdown",
   "metadata": {},
   "source": [
    "SOLVE AX=B,X=?"
   ]
  },
  {
   "cell_type": "code",
   "execution_count": 33,
   "metadata": {},
   "outputs": [],
   "source": [
    "#Solve Linear Equation using Matrix (AX=B)\n",
    "#linalg.solve()\n",
    "\n",
    "X = scipy.linalg.solve(A,B)\n"
   ]
  },
  {
   "cell_type": "code",
   "execution_count": 34,
   "metadata": {},
   "outputs": [
    {
     "data": {
      "text/plain": [
       "array([[-0.9375],\n",
       "       [ 0.75  ],\n",
       "       [ 0.3125]])"
      ]
     },
     "execution_count": 34,
     "metadata": {},
     "output_type": "execute_result"
    }
   ],
   "source": [
    "X"
   ]
  },
  {
   "cell_type": "markdown",
   "metadata": {},
   "source": [
    "Inverse of a matrix¶\n"
   ]
  },
  {
   "cell_type": "code",
   "execution_count": 35,
   "metadata": {},
   "outputs": [
    {
     "data": {
      "text/plain": [
       "array([[1, 3, 5],\n",
       "       [2, 5, 1],\n",
       "       [2, 3, 8]])"
      ]
     },
     "execution_count": 35,
     "metadata": {},
     "output_type": "execute_result"
    }
   ],
   "source": [
    "A = np.array([[1,3,5],[2,5,1],[2,3,8]])\n",
    "A\n"
   ]
  },
  {
   "cell_type": "code",
   "execution_count": 36,
   "metadata": {},
   "outputs": [
    {
     "data": {
      "text/plain": [
       "array([[-1.48,  0.36,  0.88],\n",
       "       [ 0.56,  0.08, -0.36],\n",
       "       [ 0.16, -0.12,  0.04]])"
      ]
     },
     "execution_count": 36,
     "metadata": {},
     "output_type": "execute_result"
    }
   ],
   "source": [
    "#Inverse : linalg.inv()\n",
    "\n",
    "scipy.linalg.inv(A)\n"
   ]
  },
  {
   "cell_type": "code",
   "execution_count": 37,
   "metadata": {},
   "outputs": [
    {
     "name": "stdout",
     "output_type": "stream",
     "text": [
      "[[ 1. -0. -0.]\n",
      " [ 0.  1.  0.]\n",
      " [ 0. -0.  1.]]\n"
     ]
    }
   ],
   "source": [
    "#Cross Check\n",
    "# A * inv(A) = I\n",
    "\n",
    "I = A.dot(scipy.linalg.inv(A))\n",
    "print(np.around(I))"
   ]
  },
  {
   "cell_type": "markdown",
   "metadata": {},
   "source": [
    "# 5) Fourier Transformation (import scipy.fftpack)"
   ]
  },
  {
   "cell_type": "markdown",
   "metadata": {},
   "source": [
    "## What is Fourier Transformation?"
   ]
  },
  {
   "cell_type": "markdown",
   "metadata": {},
   "source": [
    "<font color=red>The Fourier Transform is a tool that breaks a waveform (a function or signal) into an alternate representation, characterized by sine and cosines. The Fourier Transform shows that any waveform can be re-written as the sum of sinusoidal functions.\n",
    "\n",
    "There are two major functions of fftpack :\n",
    "\n",
    " - fft : fast fourier transformation   \n",
    " - ifft : inverse fast fourier transformation\n",
    "</font>\n"
   ]
  },
  {
   "cell_type": "code",
   "execution_count": 1,
   "metadata": {},
   "outputs": [],
   "source": [
    "import scipy.fftpack"
   ]
  },
  {
   "cell_type": "code",
   "execution_count": 2,
   "metadata": {},
   "outputs": [
    {
     "data": {
      "text/plain": [
       "array([ 2, 52, 42, 39, 87, 12])"
      ]
     },
     "execution_count": 2,
     "metadata": {},
     "output_type": "execute_result"
    }
   ],
   "source": [
    "import numpy as np\n",
    "a=np.array([2,52,42,39,87,12])\n",
    "a"
   ]
  },
  {
   "cell_type": "code",
   "execution_count": 3,
   "metadata": {},
   "outputs": [
    {
     "data": {
      "text/plain": [
       "array([234.  -0.j        , -69.5 +4.33012702j, -55.5-73.61215932j,\n",
       "        28.  -0.j        , -55.5+73.61215932j, -69.5 -4.33012702j])"
      ]
     },
     "execution_count": 3,
     "metadata": {},
     "output_type": "execute_result"
    }
   ],
   "source": [
    "# Fourier Transform\n",
    "s=scipy.fftpack.fft(a)\n",
    "s"
   ]
  },
  {
   "cell_type": "code",
   "execution_count": 5,
   "metadata": {},
   "outputs": [
    {
     "data": {
      "text/plain": [
       "array([ 39.         -0.j        , -11.58333333 -0.72168784j,\n",
       "        -9.25      +12.26869322j,   4.66666667 -0.j        ,\n",
       "        -9.25      -12.26869322j, -11.58333333 +0.72168784j])"
      ]
     },
     "execution_count": 5,
     "metadata": {},
     "output_type": "execute_result"
    }
   ],
   "source": [
    "# Inverse Fourier Transform\n",
    "i=scipy.fftpack.ifft(a)\n",
    "i"
   ]
  },
  {
   "cell_type": "code",
   "execution_count": 10,
   "metadata": {},
   "outputs": [
    {
     "name": "stdout",
     "output_type": "stream",
     "text": [
      "[ 2.+0.j 52.+0.j 42.-0.j 39.+0.j 87.+0.j 12.+0.j]\n",
      "\n",
      "[ 2 52 42 39 87 12]\n"
     ]
    }
   ],
   "source": [
    "# Crosscheck\n",
    "c=scipy.fftpack.fft(i)\n",
    "print(c)\n",
    "print()\n",
    "print(a)"
   ]
  },
  {
   "cell_type": "markdown",
   "metadata": {},
   "source": [
    "# 6) Interpolation (import scipy.interpolate)\n",
    "\n",
    "## What is Interpolation"
   ]
  },
  {
   "cell_type": "markdown",
   "metadata": {},
   "source": [
    "interpolation is a type of estimation, a method of constructing new data points within the range of a discrete set of known data points.\n",
    "\n",
    "Polynomial interpolation is a method of estimating values between known data points."
   ]
  },
  {
   "cell_type": "code",
   "execution_count": 39,
   "metadata": {},
   "outputs": [],
   "source": [
    "from scipy.interpolate import interp1d\n"
   ]
  },
  {
   "cell_type": "code",
   "execution_count": 37,
   "metadata": {},
   "outputs": [
    {
     "data": {
      "image/png": "[encoded data removed]",
      "text/plain": [
       "<Figure size 432x288 with 1 Axes>"
      ]
     },
     "metadata": {
      "needs_background": "light"
     },
     "output_type": "display_data"
    }
   ],
   "source": [
    "x = np.arange(0, 6, 1)\n",
    "y = np.array([0.1, 0.2, 0.3, 0.5, 1.0, 0.9])\n",
    "\n",
    "xp = np.linspace(0, 5, 100)\n",
    "\n",
    "import matplotlib.pyplot as plt\n",
    "plt.plot(x, y, 'bo')\n",
    " \n",
    "# for linear interpolation\n",
    "y1 = interp1d(x,y,kind=\"linear\")\n",
    "plt.plot(xp,y1(xp),'r-')\n",
    "\n",
    "# for quadratic interpolation\n",
    "y2 = interp1d(x,y,kind=\"quadratic\")\n",
    "plt.plot(xp,y2(xp),'b--')\n",
    "\n",
    "# for cubic interpolation\n",
    "y3 = interp1d(x,y,kind=\"cubic\")\n",
    "plt.plot(xp,y3(xp),'g+')\n",
    "\n",
    "plt.legend(['points','linear','quadratic','cubic'])\n",
    "plt.show()"
   ]
  },
  {
   "cell_type": "markdown",
   "metadata": {},
   "source": [
    "# 7) Statistics (import scipy.stats)\n",
    "\n",
    "## Common Methods\n"
   ]
  },
  {
   "cell_type": "markdown",
   "metadata": {},
   "source": [
    "The main public methods for continuous RVs are:\n",
    "\n",
    " - rvs: Random Variates\n",
    " - pdf: Probability Density Function\n",
    " - cdf: Cumulative Distribution Function\n",
    " - sf: Survival Function (1-CDF)\n",
    " - ppf: Percent Point Function (Inverse of CDF)\n",
    " - isf: Inverse Survival Function (Inverse of SF)\n",
    " - stats: Return mean, variance, (Fisher’s) skew, or (Fisher’s) kurtosis\n",
    " - moment: non-central moments of the distribution\n",
    "  \n",
    "Let’s take a normal RV as an example.\n",
    "\n"
   ]
  },
  {
   "cell_type": "markdown",
   "metadata": {},
   "source": [
    "## Probability Distributions"
   ]
  },
  {
   "cell_type": "code",
   "execution_count": 1,
   "metadata": {},
   "outputs": [],
   "source": [
    "from scipy.stats import norm"
   ]
  },
  {
   "cell_type": "code",
   "execution_count": 2,
   "metadata": {},
   "outputs": [
    {
     "name": "stdout",
     "output_type": "stream",
     "text": [
      "<class 'numpy.ndarray'>\n",
      "[-6.63472591e-01  8.54427318e-02 -2.22701446e-01  2.25764250e+00\n",
      " -1.21920080e+00 -6.47493077e-01  5.19358081e-01 -2.94884935e-01\n",
      " -4.25511932e-01 -9.22397197e-01  3.20660653e-02 -5.59206984e-01\n",
      "  1.37279843e+00 -2.72717102e-01  2.68970805e+00 -6.24386895e-01\n",
      "  7.77713458e-01 -1.53787127e-01  2.32841516e-01 -3.81831195e-01\n",
      "  3.06763831e-01  6.42922944e-01 -2.42869728e-01 -5.49608464e-01\n",
      "  2.51802827e+00 -2.73337314e+00 -3.49591049e-01 -1.65736509e+00\n",
      "  4.14946143e-01 -6.03930294e-01 -4.74826522e-01  1.13902551e-01\n",
      "  1.92487140e-01  6.19674398e-01 -2.08387976e-01  5.31803603e-01\n",
      "  8.11687366e-01 -1.65565336e-01 -7.38404575e-01  1.18295720e+00\n",
      " -3.51025925e-01  6.35879811e-01 -3.68254943e-01  1.23659575e+00\n",
      " -1.28871751e+00 -4.98259122e-01 -2.73876574e-01 -8.15581733e-01\n",
      "  3.64681303e-01 -3.23911003e-01 -8.45837833e-01 -8.07270763e-01\n",
      "  9.68745959e-02  1.99212994e+00  1.48352664e+00  3.06201326e-01\n",
      "  8.18473404e-01  5.03853897e-01 -1.92024630e-01  1.00474406e+00\n",
      " -3.92132929e-01 -6.62642029e-01  2.84710536e-01 -7.73905923e-01\n",
      " -6.18585822e-01  1.08165750e+00 -5.49726561e-01 -7.07949833e-01\n",
      " -1.64576706e+00 -2.20205867e-01 -1.18603797e+00 -3.21706803e-01\n",
      "  4.63989099e-02  3.20458870e-01 -1.37844523e-01  1.92706173e-01\n",
      " -1.37616110e+00  1.08132674e+00 -4.14226709e-01  3.27007077e-01\n",
      "  7.85678565e-01 -1.32839444e+00  9.24908780e-01  1.35084353e+00\n",
      " -4.05095278e-01 -3.80564019e-01  3.14115215e-01 -7.45777479e-01\n",
      "  2.11696022e+00 -1.55526718e-02  2.32464221e-01 -9.73177720e-01\n",
      "  5.74412204e-01 -6.83049127e-01  1.96591300e-01 -1.47142281e+00\n",
      " -5.62768906e-01 -1.14349307e+00 -7.58455533e-01  2.17935661e+00\n",
      " -2.06514005e+00  7.90783036e-01 -5.04221929e-01 -6.56633085e-01\n",
      " -1.24649892e+00  1.47475536e-01  7.80591932e-01 -6.08796758e-01\n",
      "  1.54972130e-01  1.06886739e+00 -2.93769119e-01 -1.48085901e+00\n",
      "  5.43140796e-01 -6.68507774e-01 -7.73144470e-01  9.11122576e-01\n",
      " -2.02842059e-02  1.16711847e+00  4.78642203e-01  5.70033695e-01\n",
      " -2.68640541e+00  6.08256273e-01  1.04940866e+00  1.75816862e-01\n",
      " -1.49338309e-01 -2.42287870e-01  1.41770387e+00 -4.54460840e-01\n",
      "  3.07366500e-01 -1.21048498e+00 -6.17141735e-01  8.22169379e-01\n",
      " -1.50464529e+00  6.64875382e-02 -2.09865704e-01 -7.14328623e-01\n",
      " -1.25168135e+00 -1.51041563e+00 -3.94638151e-01  3.68886468e-01\n",
      " -6.02875804e-01  6.15268829e-01  1.84425320e-01 -6.89398058e-01\n",
      " -1.83190177e+00  8.39403910e-01 -1.31289404e+00 -8.86702005e-01\n",
      " -3.74042717e-01  7.27585389e-02 -2.60462115e-01 -4.57633248e-01\n",
      " -9.69938837e-01  3.28296253e-03  1.03823958e+00 -2.99512653e-01\n",
      "  1.34857419e-01  7.09465668e-01 -1.00781849e-01  5.48769024e-02\n",
      " -8.08584213e-01 -3.59862697e-02  5.43716540e-01 -2.76909791e+00\n",
      "  6.33948817e-01  8.32899038e-01 -5.59485859e-02 -1.03763375e+00\n",
      " -1.29589072e+00 -5.49652063e-01  4.84371079e-01  1.14342020e+00\n",
      "  2.09034166e-01  2.33912487e+00  6.48244138e-01 -1.34526914e-01\n",
      "  1.31768550e+00 -5.17832170e-01 -7.04839526e-01 -6.04195903e-01\n",
      "  4.15541261e-01  2.55106448e+00  1.38013355e+00 -2.62016285e-01\n",
      "  6.60796937e-01  8.57130351e-01  5.58504816e-02 -3.77392442e-01\n",
      " -3.34462915e-01  5.68296495e-01 -1.57283690e+00  7.03135016e-01\n",
      " -7.65474751e-01 -9.44503710e-01  1.12940977e+00 -8.50123949e-01\n",
      "  3.07136550e-01  1.80724031e+00  1.99571251e+00  2.32012699e+00\n",
      " -3.90639037e-01  8.09540586e-01  4.50194192e-01  3.75727476e-01\n",
      "  1.47053006e+00  8.53010634e-01 -1.39007060e+00 -1.66710617e+00\n",
      " -1.04182042e-02 -3.81183504e-01 -6.29637557e-01  1.42868094e-03\n",
      "  3.05003187e-01 -1.06664909e-02 -2.72935941e+00  6.61475438e-02\n",
      " -2.02871614e+00  4.07790490e-01  1.57708007e+00 -1.60931750e+00\n",
      " -4.68286684e-02  6.72059212e-01  4.61171118e-01  4.87520603e-03\n",
      " -1.29284359e+00  2.81453059e-02  1.52521950e+00  4.01446023e-01\n",
      " -7.00682905e-01  2.47152051e-01 -6.44188593e-01  8.66412375e-01\n",
      " -6.62634632e-01 -2.84521346e-01  4.72195877e-01  8.49504637e-01\n",
      " -8.06422182e-01 -9.35198618e-01 -3.27828503e-01 -1.58637154e+00\n",
      "  1.93372078e-02 -2.99991599e-01 -1.44292296e+00 -4.70890159e-01\n",
      "  1.26425520e+00 -1.02558791e+00  1.31327339e+00  1.71915737e+00\n",
      "  6.85892983e-01 -1.35543483e+00  2.82051959e-02 -4.66451932e-01\n",
      "  1.99920896e-01  8.29216382e-01  3.03184364e-01  2.20286250e-01\n",
      " -1.57601151e+00 -1.60213044e+00 -4.55356303e-01 -2.55436899e-01\n",
      "  6.91707869e-01  3.95478719e-01  1.56414187e+00 -1.01046956e+00\n",
      " -1.64730392e-01 -2.60499121e-01  5.31536169e-01  1.62239215e+00\n",
      "  1.76890515e-01  1.50595877e-01  1.31821011e-01 -1.44368544e+00\n",
      "  3.86308275e-01 -9.20472545e-01  5.26080564e-01 -1.02663213e+00\n",
      " -6.01423109e-01  5.04795998e-01  5.55464301e-01 -1.43784492e-01\n",
      " -1.81746180e-01 -2.68412676e-01 -1.08699957e+00 -2.03297015e-01\n",
      "  3.41521257e-02  1.73442830e-01  1.66413926e+00  8.83680874e-01\n",
      "  1.34856701e+00  6.86466458e-02  7.56364380e-01 -1.16308338e+00\n",
      " -8.14957513e-01  8.39814025e-01 -1.03355577e+00 -9.77923968e-02\n",
      "  6.24477615e-02  1.16479920e+00  1.68408857e-01  8.63843444e-01\n",
      "  3.48965982e-01 -4.71118112e-02 -6.29938608e-01  5.47012042e-01\n",
      " -1.86331273e-01  9.21922111e-01 -2.07323161e-01 -8.80431566e-02\n",
      "  6.78420498e-01  3.64017235e-01 -4.50451210e-01 -2.23906559e-01\n",
      " -4.12776142e-01  5.02051601e-01  4.56913388e-01 -3.68421980e-01\n",
      " -4.50618984e-01 -1.49967543e+00 -7.05813627e-01 -3.91542215e-02\n",
      "  1.03370419e-02 -1.15011220e+00 -5.45633439e-01 -1.74061522e+00\n",
      " -1.26033945e+00  5.74606862e-01  8.21442306e-01  3.24003345e-01\n",
      " -6.95302572e-01  1.13424496e+00  1.19810691e+00  4.61594339e-01\n",
      "  9.32080800e-01  7.39282084e-01 -1.44763212e+00 -5.97113388e-01\n",
      " -1.43420592e-01  1.44707548e+00 -4.16946148e-02  2.68991195e+00\n",
      " -1.09769346e+00 -1.07888156e+00 -4.99063232e-01 -5.08542491e-01\n",
      "  2.89749372e+00 -1.67220417e+00 -1.91837037e-01  4.99773249e-01\n",
      "  7.48442778e-01 -1.77653098e+00  8.10715674e-01 -8.36596697e-01\n",
      "  1.13854425e-01  1.16165509e+00  1.16903190e+00 -1.08398754e+00\n",
      "  8.39311310e-01  1.46182364e+00 -4.42309078e-02 -4.34955692e-01\n",
      " -9.95326425e-01 -1.31489165e+00  1.06912189e+00  1.01159840e-01\n",
      " -1.32016616e-01  1.94183626e+00 -5.82588183e-01  1.33621414e+00\n",
      " -8.27167163e-01 -1.72133013e+00  3.46113443e-01 -2.31457669e+00\n",
      " -3.41059603e-01  8.65562168e-01  3.26610634e-01  3.21884268e-01\n",
      " -1.81507308e-01 -1.66756424e+00  7.88286786e-01 -1.77222559e+00\n",
      " -7.09894250e-01 -4.92419506e-01 -8.55060322e-01 -5.42844381e-01\n",
      "  5.07619567e-01 -1.01273311e+00  6.67596702e-02 -5.53183846e-01\n",
      "  8.91756589e-01  3.41454813e-01  1.02608551e+00  1.17485846e+00\n",
      " -2.44078070e-01  3.39618299e-01  1.23568365e+00  6.46083081e-01\n",
      "  1.28885927e+00 -4.36532178e-01  9.36170335e-01 -4.71544736e-01\n",
      "  4.24321948e-01 -3.12176072e-01 -2.41543201e-01 -5.71897228e-01\n",
      "  1.32601194e+00  7.29760475e-02  1.26221752e+00 -1.55428657e+00\n",
      " -1.25711443e-01 -4.35641523e-02 -1.11544673e+00 -9.94694994e-01\n",
      "  1.66390572e+00  7.03187833e-01 -2.88479301e+00 -1.26568113e+00\n",
      "  2.30893084e-01  4.90783112e-01  3.38885236e-01 -4.68674964e-01\n",
      " -1.02519219e+00 -3.17194932e-01 -5.96489043e-01  5.08351449e-01\n",
      "  7.10752912e-01 -3.82845731e-01 -7.89412758e-02 -2.34468378e-01\n",
      "  5.60491838e-01 -1.27537109e-01  4.82042077e-01 -1.22570655e+00\n",
      " -1.48558094e+00 -8.40598574e-01  6.10529243e-01 -9.93493389e-01\n",
      "  1.24966515e+00  1.53648652e-01  6.39840970e-01  2.20036685e+00\n",
      "  7.68909262e-01 -6.74537772e-01  5.79781304e-01 -1.04182531e+00\n",
      " -8.23914949e-01  2.13063954e+00  9.31723758e-01 -2.45274514e-01\n",
      "  8.19039300e-01  9.41136752e-01  1.99444883e-01  4.41486061e-01\n",
      " -1.97690805e-01 -1.40666563e-01  7.19632789e-01 -5.12742439e-01\n",
      "  1.12025960e+00 -1.53304305e+00 -3.76498255e-01  6.82859186e-01\n",
      "  2.88767943e+00 -4.32252098e-01  3.78562423e-01  3.97770918e-02\n",
      " -3.57283442e-01  1.89728560e+00 -1.70396885e+00  7.57113356e-01\n",
      " -1.78815477e+00 -1.10056604e+00 -5.03701805e-01  2.71284939e-02\n",
      "  3.94391229e-01  1.90638825e+00  1.15740690e+00  8.57612727e-01\n",
      "  1.63323910e+00  1.50270703e-02  1.00188846e-02 -3.18991020e-01\n",
      " -6.41427308e-01 -6.99396109e-01  1.76338668e+00 -1.26917627e+00\n",
      "  5.90639652e-01  9.60177915e-01  8.61340032e-01 -5.35530009e-01\n",
      "  1.96211074e+00 -2.06973499e+00 -1.58026124e+00  3.56266273e-01\n",
      "  6.39521132e-01 -9.38436441e-01  1.57396140e-01 -1.01805012e+00\n",
      "  9.89990668e-01 -2.58848274e-01  1.51831882e+00  1.31624662e+00]\n"
     ]
    }
   ],
   "source": [
    "#this gives you a numpy array with 500 elements, \n",
    "#randomly valued according to the standard normal distribution (mean = 0, std =1)\n",
    "x_norm=norm.rvs(size=500)\n",
    "print(type(x_norm))\n",
    "print(x_norm)"
   ]
  },
  {
   "cell_type": "code",
   "execution_count": 12,
   "metadata": {},
   "outputs": [
    {
     "data": {
      "text/plain": [
       "(0.0, 1.0, 1.0)"
      ]
     },
     "execution_count": 12,
     "metadata": {},
     "output_type": "execute_result"
    }
   ],
   "source": [
    "norm.mean(), norm.std(), norm.var() #Mean = 0, std = 1\n"
   ]
  },
  {
   "cell_type": "code",
   "execution_count": 8,
   "metadata": {},
   "outputs": [
    {
     "data": {
      "text/plain": [
       "array([2.41970725e-01, 2.41970725e-01, 3.98942280e-01, 2.41970725e-01,\n",
       "       4.43184841e-03, 1.33830226e-04, 5.39909665e-02, 6.07588285e-09])"
      ]
     },
     "execution_count": 8,
     "metadata": {},
     "output_type": "execute_result"
    }
   ],
   "source": [
    "#PDF\n",
    "import numpy as np\n",
    "norm.pdf(np.array([1,-1., 0, 1, 3, 4, -2, 6])) # Probability Density Function\n"
   ]
  },
  {
   "cell_type": "code",
   "execution_count": 41,
   "metadata": {},
   "outputs": [
    {
     "data": {
      "text/plain": [
       "array([0.84134475, 0.15865525, 0.5       , 0.84134475, 0.9986501 ,\n",
       "       0.99996833, 0.02275013, 1.        ])"
      ]
     },
     "execution_count": 41,
     "metadata": {},
     "output_type": "execute_result"
    }
   ],
   "source": [
    "#CDF\n",
    "import numpy as np\n",
    "norm.cdf(np.array([1,-1., 0, 1, 3, 4, -2, 6])) #Continous Distribution Function\n"
   ]
  },
  {
   "cell_type": "code",
   "execution_count": 42,
   "metadata": {},
   "outputs": [
    {
     "data": {
      "text/plain": [
       "0.0"
      ]
     },
     "execution_count": 42,
     "metadata": {},
     "output_type": "execute_result"
    }
   ],
   "source": [
    "#PPF\n",
    "# It is reverse of CDF\n",
    "norm.ppf(0.5)   #Percent Point Function\n"
   ]
  },
  {
   "cell_type": "code",
   "execution_count": 10,
   "metadata": {},
   "outputs": [
    {
     "name": "stdout",
     "output_type": "stream",
     "text": [
      "9,1,5.0,6.666666666666667\n"
     ]
    }
   ],
   "source": [
    "x = np.array([1,2,3,4,5,6,7,8,9])\n",
    "print(x.max(),x.min(),x.mean(),x.var(),sep=\",\")\n"
   ]
  },
  {
   "cell_type": "code",
   "execution_count": 44,
   "metadata": {},
   "outputs": [
    {
     "name": "stdout",
     "output_type": "stream",
     "text": [
      "Geometric Mean is : 4.641588833612778\n"
     ]
    }
   ],
   "source": [
    "#Geometric Mean\n",
    "from scipy.stats.mstats import gmean \n",
    "g = gmean([1, 5, 20]) \n",
    "\n",
    "print(\"Geometric Mean is :\", g)\n"
   ]
  },
  {
   "cell_type": "code",
   "execution_count": 45,
   "metadata": {},
   "outputs": [
    {
     "name": "stdout",
     "output_type": "stream",
     "text": [
      "Harmonic Mean is : 2.4\n"
     ]
    }
   ],
   "source": [
    "#Harmonic Mean\n",
    "from scipy.stats.mstats import hmean \n",
    "h = hmean([1, 5, 20]) \n",
    "\n",
    "print(\"Harmonic Mean is :\", h)\n"
   ]
  },
  {
   "cell_type": "code",
   "execution_count": 46,
   "metadata": {},
   "outputs": [
    {
     "name": "stdout",
     "output_type": "stream",
     "text": [
      "Arithmetic mode is :  ModeResult(mode=array([3]), count=array([2]))\n"
     ]
    }
   ],
   "source": [
    "\n",
    "#Mode \n",
    "from scipy import stats\n",
    "arr1 = np.array([1, 3, 15, 11, 9, 3]) \n",
    "print(\"Arithmetic mode is : \", stats.mode(arr1))\n"
   ]
  },
  {
   "cell_type": "code",
   "execution_count": 47,
   "metadata": {},
   "outputs": [
    {
     "name": "stdout",
     "output_type": "stream",
     "text": [
      "\n",
      "Z-score for arr1 :  [ 0.92435403 -0.92435403 -0.41082402 -1.02706004  1.43788405]\n"
     ]
    }
   ],
   "source": [
    "#Z-Score\t\n",
    "arr1 = [20, 2, 7, 1, 25] \n",
    "\n",
    "print (\"\\nZ-score for arr1 : \", stats.zscore(arr1))"
   ]
  },
  {
   "cell_type": "markdown",
   "metadata": {},
   "source": [
    "# 8) Miscellaneous¶\n",
    "\n",
    "## scienitfic constants"
   ]
  },
  {
   "cell_type": "code",
   "execution_count": 15,
   "metadata": {},
   "outputs": [
    {
     "data": {
      "text/plain": [
       "['Angstrom star',\n",
       " 'Avogadro constant',\n",
       " 'Bohr magneton',\n",
       " 'Bohr magneton in Hz/T',\n",
       " 'Bohr magneton in K/T',\n",
       " 'Bohr magneton in eV/T',\n",
       " 'Bohr magneton in inverse meter per tesla',\n",
       " 'Bohr radius',\n",
       " 'Boltzmann constant',\n",
       " 'Boltzmann constant in Hz/K',\n",
       " 'Boltzmann constant in eV/K',\n",
       " 'Boltzmann constant in inverse meter per kelvin',\n",
       " 'Compton wavelength',\n",
       " 'Cu x unit',\n",
       " 'Faraday constant',\n",
       " 'Fermi coupling constant',\n",
       " 'Hartree energy',\n",
       " 'Hartree energy in eV',\n",
       " 'Josephson constant',\n",
       " 'Loschmidt constant (273.15 K, 100 kPa)',\n",
       " 'Loschmidt constant (273.15 K, 101.325 kPa)',\n",
       " 'Mo x unit',\n",
       " 'Newtonian constant of gravitation',\n",
       " 'Newtonian constant of gravitation over h-bar c',\n",
       " 'Planck constant',\n",
       " 'Planck constant in eV/Hz',\n",
       " 'Planck length',\n",
       " 'Planck mass',\n",
       " 'Planck mass energy equivalent in GeV',\n",
       " 'Planck temperature',\n",
       " 'Planck time',\n",
       " 'Rydberg constant',\n",
       " 'Rydberg constant times c in Hz',\n",
       " 'Rydberg constant times hc in J',\n",
       " 'Rydberg constant times hc in eV',\n",
       " 'Sackur-Tetrode constant (1 K, 100 kPa)',\n",
       " 'Sackur-Tetrode constant (1 K, 101.325 kPa)',\n",
       " 'Stefan-Boltzmann constant',\n",
       " 'Thomson cross section',\n",
       " 'W to Z mass ratio',\n",
       " 'Wien frequency displacement law constant',\n",
       " 'Wien wavelength displacement law constant',\n",
       " 'alpha particle mass',\n",
       " 'alpha particle mass energy equivalent',\n",
       " 'alpha particle mass energy equivalent in MeV',\n",
       " 'alpha particle mass in u',\n",
       " 'alpha particle molar mass',\n",
       " 'alpha particle relative atomic mass',\n",
       " 'alpha particle-electron mass ratio',\n",
       " 'alpha particle-proton mass ratio',\n",
       " 'atomic mass constant',\n",
       " 'atomic mass constant energy equivalent',\n",
       " 'atomic mass constant energy equivalent in MeV',\n",
       " 'atomic mass unit-electron volt relationship',\n",
       " 'atomic mass unit-hartree relationship',\n",
       " 'atomic mass unit-hertz relationship',\n",
       " 'atomic mass unit-inverse meter relationship',\n",
       " 'atomic mass unit-joule relationship',\n",
       " 'atomic mass unit-kelvin relationship',\n",
       " 'atomic mass unit-kilogram relationship',\n",
       " 'atomic unit of 1st hyperpolarizability',\n",
       " 'atomic unit of 2nd hyperpolarizability',\n",
       " 'atomic unit of action',\n",
       " 'atomic unit of charge',\n",
       " 'atomic unit of charge density',\n",
       " 'atomic unit of current',\n",
       " 'atomic unit of electric dipole mom.',\n",
       " 'atomic unit of electric field',\n",
       " 'atomic unit of electric field gradient',\n",
       " 'atomic unit of electric polarizability',\n",
       " 'atomic unit of electric potential',\n",
       " 'atomic unit of electric quadrupole mom.',\n",
       " 'atomic unit of energy',\n",
       " 'atomic unit of force',\n",
       " 'atomic unit of length',\n",
       " 'atomic unit of mag. dipole mom.',\n",
       " 'atomic unit of mag. flux density',\n",
       " 'atomic unit of magnetizability',\n",
       " 'atomic unit of mass',\n",
       " 'atomic unit of momentum',\n",
       " 'atomic unit of permittivity',\n",
       " 'atomic unit of time',\n",
       " 'atomic unit of velocity',\n",
       " 'classical electron radius',\n",
       " 'conductance quantum',\n",
       " 'conventional value of Josephson constant',\n",
       " 'conventional value of ampere-90',\n",
       " 'conventional value of coulomb-90',\n",
       " 'conventional value of farad-90',\n",
       " 'conventional value of henry-90',\n",
       " 'conventional value of ohm-90',\n",
       " 'conventional value of volt-90',\n",
       " 'conventional value of von Klitzing constant',\n",
       " 'conventional value of watt-90',\n",
       " 'deuteron g factor',\n",
       " 'deuteron mag. mom.',\n",
       " 'deuteron mag. mom. to Bohr magneton ratio',\n",
       " 'deuteron mag. mom. to nuclear magneton ratio',\n",
       " 'deuteron mass',\n",
       " 'deuteron mass energy equivalent',\n",
       " 'deuteron mass energy equivalent in MeV',\n",
       " 'deuteron mass in u',\n",
       " 'deuteron molar mass',\n",
       " 'deuteron relative atomic mass',\n",
       " 'deuteron rms charge radius',\n",
       " 'deuteron-electron mag. mom. ratio',\n",
       " 'deuteron-electron mass ratio',\n",
       " 'deuteron-neutron mag. mom. ratio',\n",
       " 'deuteron-proton mag. mom. ratio',\n",
       " 'deuteron-proton mass ratio',\n",
       " 'electron charge to mass quotient',\n",
       " 'electron g factor',\n",
       " 'electron gyromag. ratio',\n",
       " 'electron gyromag. ratio in MHz/T',\n",
       " 'electron mag. mom.',\n",
       " 'electron mag. mom. anomaly',\n",
       " 'electron mag. mom. to Bohr magneton ratio',\n",
       " 'electron mag. mom. to nuclear magneton ratio',\n",
       " 'electron mass',\n",
       " 'electron mass energy equivalent',\n",
       " 'electron mass energy equivalent in MeV',\n",
       " 'electron mass in u',\n",
       " 'electron molar mass',\n",
       " 'electron relative atomic mass',\n",
       " 'electron to alpha particle mass ratio',\n",
       " 'electron to shielded helion mag. mom. ratio',\n",
       " 'electron to shielded proton mag. mom. ratio',\n",
       " 'electron volt',\n",
       " 'electron volt-atomic mass unit relationship',\n",
       " 'electron volt-hartree relationship',\n",
       " 'electron volt-hertz relationship',\n",
       " 'electron volt-inverse meter relationship',\n",
       " 'electron volt-joule relationship',\n",
       " 'electron volt-kelvin relationship',\n",
       " 'electron volt-kilogram relationship',\n",
       " 'electron-deuteron mag. mom. ratio',\n",
       " 'electron-deuteron mass ratio',\n",
       " 'electron-helion mass ratio',\n",
       " 'electron-muon mag. mom. ratio',\n",
       " 'electron-muon mass ratio',\n",
       " 'electron-neutron mag. mom. ratio',\n",
       " 'electron-neutron mass ratio',\n",
       " 'electron-proton mag. mom. ratio',\n",
       " 'electron-proton mass ratio',\n",
       " 'electron-tau mass ratio',\n",
       " 'electron-triton mass ratio',\n",
       " 'elementary charge',\n",
       " 'elementary charge over h-bar',\n",
       " 'fine-structure constant',\n",
       " 'first radiation constant',\n",
       " 'first radiation constant for spectral radiance',\n",
       " 'hartree-atomic mass unit relationship',\n",
       " 'hartree-electron volt relationship',\n",
       " 'hartree-hertz relationship',\n",
       " 'hartree-inverse meter relationship',\n",
       " 'hartree-joule relationship',\n",
       " 'hartree-kelvin relationship',\n",
       " 'hartree-kilogram relationship',\n",
       " 'helion g factor',\n",
       " 'helion mag. mom.',\n",
       " 'helion mag. mom. to Bohr magneton ratio',\n",
       " 'helion mag. mom. to nuclear magneton ratio',\n",
       " 'helion mass',\n",
       " 'helion mass energy equivalent',\n",
       " 'helion mass energy equivalent in MeV',\n",
       " 'helion mass in u',\n",
       " 'helion molar mass',\n",
       " 'helion relative atomic mass',\n",
       " 'helion shielding shift',\n",
       " 'helion-electron mass ratio',\n",
       " 'helion-proton mass ratio',\n",
       " 'hertz-atomic mass unit relationship',\n",
       " 'hertz-electron volt relationship',\n",
       " 'hertz-hartree relationship',\n",
       " 'hertz-inverse meter relationship',\n",
       " 'hertz-joule relationship',\n",
       " 'hertz-kelvin relationship',\n",
       " 'hertz-kilogram relationship',\n",
       " 'hyperfine transition frequency of Cs-133',\n",
       " 'inverse fine-structure constant',\n",
       " 'inverse meter-atomic mass unit relationship',\n",
       " 'inverse meter-electron volt relationship',\n",
       " 'inverse meter-hartree relationship',\n",
       " 'inverse meter-hertz relationship',\n",
       " 'inverse meter-joule relationship',\n",
       " 'inverse meter-kelvin relationship',\n",
       " 'inverse meter-kilogram relationship',\n",
       " 'inverse of conductance quantum',\n",
       " 'joule-atomic mass unit relationship',\n",
       " 'joule-electron volt relationship',\n",
       " 'joule-hartree relationship',\n",
       " 'joule-hertz relationship',\n",
       " 'joule-inverse meter relationship',\n",
       " 'joule-kelvin relationship',\n",
       " 'joule-kilogram relationship',\n",
       " 'kelvin-atomic mass unit relationship',\n",
       " 'kelvin-electron volt relationship',\n",
       " 'kelvin-hartree relationship',\n",
       " 'kelvin-hertz relationship',\n",
       " 'kelvin-inverse meter relationship',\n",
       " 'kelvin-joule relationship',\n",
       " 'kelvin-kilogram relationship',\n",
       " 'kilogram-atomic mass unit relationship',\n",
       " 'kilogram-electron volt relationship',\n",
       " 'kilogram-hartree relationship',\n",
       " 'kilogram-hertz relationship',\n",
       " 'kilogram-inverse meter relationship',\n",
       " 'kilogram-joule relationship',\n",
       " 'kilogram-kelvin relationship',\n",
       " 'lattice parameter of silicon',\n",
       " 'lattice spacing of ideal Si (220)',\n",
       " 'luminous efficacy',\n",
       " 'mag. flux quantum',\n",
       " 'molar Planck constant',\n",
       " 'molar gas constant',\n",
       " 'molar mass constant',\n",
       " 'molar mass of carbon-12',\n",
       " 'molar volume of ideal gas (273.15 K, 100 kPa)',\n",
       " 'molar volume of ideal gas (273.15 K, 101.325 kPa)',\n",
       " 'molar volume of silicon',\n",
       " 'muon Compton wavelength',\n",
       " 'muon g factor',\n",
       " 'muon mag. mom.',\n",
       " 'muon mag. mom. anomaly',\n",
       " 'muon mag. mom. to Bohr magneton ratio',\n",
       " 'muon mag. mom. to nuclear magneton ratio',\n",
       " 'muon mass',\n",
       " 'muon mass energy equivalent',\n",
       " 'muon mass energy equivalent in MeV',\n",
       " 'muon mass in u',\n",
       " 'muon molar mass',\n",
       " 'muon-electron mass ratio',\n",
       " 'muon-neutron mass ratio',\n",
       " 'muon-proton mag. mom. ratio',\n",
       " 'muon-proton mass ratio',\n",
       " 'muon-tau mass ratio',\n",
       " 'natural unit of action',\n",
       " 'natural unit of action in eV s',\n",
       " 'natural unit of energy',\n",
       " 'natural unit of energy in MeV',\n",
       " 'natural unit of length',\n",
       " 'natural unit of mass',\n",
       " 'natural unit of momentum',\n",
       " 'natural unit of momentum in MeV/c',\n",
       " 'natural unit of time',\n",
       " 'natural unit of velocity',\n",
       " 'neutron Compton wavelength',\n",
       " 'neutron g factor',\n",
       " 'neutron gyromag. ratio',\n",
       " 'neutron gyromag. ratio in MHz/T',\n",
       " 'neutron mag. mom.',\n",
       " 'neutron mag. mom. to Bohr magneton ratio',\n",
       " 'neutron mag. mom. to nuclear magneton ratio',\n",
       " 'neutron mass',\n",
       " 'neutron mass energy equivalent',\n",
       " 'neutron mass energy equivalent in MeV',\n",
       " 'neutron mass in u',\n",
       " 'neutron molar mass',\n",
       " 'neutron relative atomic mass',\n",
       " 'neutron to shielded proton mag. mom. ratio',\n",
       " 'neutron-electron mag. mom. ratio',\n",
       " 'neutron-electron mass ratio',\n",
       " 'neutron-muon mass ratio',\n",
       " 'neutron-proton mag. mom. ratio',\n",
       " 'neutron-proton mass difference',\n",
       " 'neutron-proton mass difference energy equivalent',\n",
       " 'neutron-proton mass difference energy equivalent in MeV',\n",
       " 'neutron-proton mass difference in u',\n",
       " 'neutron-proton mass ratio',\n",
       " 'neutron-tau mass ratio',\n",
       " 'nuclear magneton',\n",
       " 'nuclear magneton in K/T',\n",
       " 'nuclear magneton in MHz/T',\n",
       " 'nuclear magneton in eV/T',\n",
       " 'nuclear magneton in inverse meter per tesla',\n",
       " 'proton Compton wavelength',\n",
       " 'proton charge to mass quotient',\n",
       " 'proton g factor',\n",
       " 'proton gyromag. ratio',\n",
       " 'proton gyromag. ratio in MHz/T',\n",
       " 'proton mag. mom.',\n",
       " 'proton mag. mom. to Bohr magneton ratio',\n",
       " 'proton mag. mom. to nuclear magneton ratio',\n",
       " 'proton mag. shielding correction',\n",
       " 'proton mass',\n",
       " 'proton mass energy equivalent',\n",
       " 'proton mass energy equivalent in MeV',\n",
       " 'proton mass in u',\n",
       " 'proton molar mass',\n",
       " 'proton relative atomic mass',\n",
       " 'proton rms charge radius',\n",
       " 'proton-electron mass ratio',\n",
       " 'proton-muon mass ratio',\n",
       " 'proton-neutron mag. mom. ratio',\n",
       " 'proton-neutron mass ratio',\n",
       " 'proton-tau mass ratio',\n",
       " 'quantum of circulation',\n",
       " 'quantum of circulation times 2',\n",
       " 'reduced Compton wavelength',\n",
       " 'reduced Planck constant',\n",
       " 'reduced Planck constant in eV s',\n",
       " 'reduced Planck constant times c in MeV fm',\n",
       " 'reduced muon Compton wavelength',\n",
       " 'reduced neutron Compton wavelength',\n",
       " 'reduced proton Compton wavelength',\n",
       " 'reduced tau Compton wavelength',\n",
       " 'second radiation constant',\n",
       " 'shielded helion gyromag. ratio',\n",
       " 'shielded helion gyromag. ratio in MHz/T',\n",
       " 'shielded helion mag. mom.',\n",
       " 'shielded helion mag. mom. to Bohr magneton ratio',\n",
       " 'shielded helion mag. mom. to nuclear magneton ratio',\n",
       " 'shielded helion to proton mag. mom. ratio',\n",
       " 'shielded helion to shielded proton mag. mom. ratio',\n",
       " 'shielded proton gyromag. ratio',\n",
       " 'shielded proton gyromag. ratio in MHz/T',\n",
       " 'shielded proton mag. mom.',\n",
       " 'shielded proton mag. mom. to Bohr magneton ratio',\n",
       " 'shielded proton mag. mom. to nuclear magneton ratio',\n",
       " 'shielding difference of d and p in HD',\n",
       " 'shielding difference of t and p in HT',\n",
       " 'speed of light in vacuum',\n",
       " 'standard acceleration of gravity',\n",
       " 'standard atmosphere',\n",
       " 'standard-state pressure',\n",
       " 'tau Compton wavelength',\n",
       " 'tau energy equivalent',\n",
       " 'tau mass',\n",
       " 'tau mass energy equivalent',\n",
       " 'tau mass in u',\n",
       " 'tau molar mass',\n",
       " 'tau-electron mass ratio',\n",
       " 'tau-muon mass ratio',\n",
       " 'tau-neutron mass ratio',\n",
       " 'tau-proton mass ratio',\n",
       " 'triton g factor',\n",
       " 'triton mag. mom.',\n",
       " 'triton mag. mom. to Bohr magneton ratio',\n",
       " 'triton mag. mom. to nuclear magneton ratio',\n",
       " 'triton mass',\n",
       " 'triton mass energy equivalent',\n",
       " 'triton mass energy equivalent in MeV',\n",
       " 'triton mass in u',\n",
       " 'triton molar mass',\n",
       " 'triton relative atomic mass',\n",
       " 'triton to proton mag. mom. ratio',\n",
       " 'triton-electron mass ratio',\n",
       " 'triton-proton mass ratio',\n",
       " 'unified atomic mass unit',\n",
       " 'vacuum electric permittivity',\n",
       " 'vacuum mag. permeability',\n",
       " 'von Klitzing constant',\n",
       " 'weak mixing angle']"
      ]
     },
     "execution_count": 15,
     "metadata": {},
     "output_type": "execute_result"
    }
   ],
   "source": [
    "import scipy\n",
    "scipy.constants.find()"
   ]
  },
  {
   "cell_type": "code",
   "execution_count": 16,
   "metadata": {},
   "outputs": [
    {
     "data": {
      "text/plain": [
       "['Planck constant',\n",
       " 'Planck constant in eV/Hz',\n",
       " 'Planck length',\n",
       " 'Planck mass',\n",
       " 'Planck mass energy equivalent in GeV',\n",
       " 'Planck temperature',\n",
       " 'Planck time',\n",
       " 'molar Planck constant',\n",
       " 'reduced Planck constant',\n",
       " 'reduced Planck constant in eV s',\n",
       " 'reduced Planck constant times c in MeV fm']"
      ]
     },
     "execution_count": 16,
     "metadata": {},
     "output_type": "execute_result"
    }
   ],
   "source": [
    "#Find Specific Constants\n",
    "#gives all constants starting with given keyword\n",
    "\n",
    "scipy.constants.find(\"Planck\")\n"
   ]
  },
  {
   "cell_type": "code",
   "execution_count": 17,
   "metadata": {},
   "outputs": [
    {
     "data": {
      "text/plain": [
       "(6.62607015e-34, 'J Hz^-1', 0.0)"
      ]
     },
     "execution_count": 17,
     "metadata": {},
     "output_type": "execute_result"
    }
   ],
   "source": [
    "#Physical_Constant method\n",
    "\n",
    "scipy.constants.physical_constants[\"Planck constant\"]"
   ]
  },
  {
   "cell_type": "code",
   "execution_count": 18,
   "metadata": {},
   "outputs": [
    {
     "data": {
      "text/plain": [
       "6.62607015e-34"
      ]
     },
     "execution_count": 18,
     "metadata": {},
     "output_type": "execute_result"
    }
   ],
   "source": [
    "#Returns value of particular Constant\n",
    "\n",
    "scipy.constants.value(\"Planck constant\")\n"
   ]
  },
  {
   "cell_type": "code",
   "execution_count": 19,
   "metadata": {},
   "outputs": [
    {
     "data": {
      "text/plain": [
       "1.380649e-23"
      ]
     },
     "execution_count": 19,
     "metadata": {},
     "output_type": "execute_result"
    }
   ],
   "source": [
    "scipy.constants.value(\"Boltzmann constant\")\n"
   ]
  },
  {
   "cell_type": "code",
   "execution_count": 20,
   "metadata": {},
   "outputs": [
    {
     "data": {
      "text/plain": [
       "3.141592653589793"
      ]
     },
     "execution_count": 20,
     "metadata": {},
     "output_type": "execute_result"
    }
   ],
   "source": [
    "scipy.constants.pi\n"
   ]
  },
  {
   "cell_type": "code",
   "execution_count": null,
   "metadata": {},
   "outputs": [],
   "source": []
  }
 ],
 "metadata": {
  "kernelspec": {
   "display_name": "Python 3",
   "language": "python",
   "name": "python3"
  },
  "language_info": {
   "codemirror_mode": {
    "name": "ipython",
    "version": 3
   },
   "file_extension": ".py",
   "mimetype": "text/x-python",
   "name": "python",
   "nbconvert_exporter": "python",
   "pygments_lexer": "ipython3",
   "version": "3.8.3"
  }
 },
 "nbformat": 4,
 "nbformat_minor": 4
}
